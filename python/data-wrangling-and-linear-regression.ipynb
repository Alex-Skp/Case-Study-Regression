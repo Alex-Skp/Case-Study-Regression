{
 "cells": [
  {
   "cell_type": "markdown",
   "id": "hydraulic-bullet",
   "metadata": {},
   "source": [
    "# First run of python code "
   ]
  },
  {
   "cell_type": "markdown",
   "id": "blond-cargo",
   "metadata": {},
   "source": [
    "1.[Importing libraries to start wrangling and plotting](#1.Importing-libraries-to-start-wrangling-and-plotting)  \n",
    "2.[Import data](#2.Import-data)  \n",
    "3.[Start cleaning](#3.Start-cleaning)"
   ]
  },
  {
   "cell_type": "markdown",
   "id": "advance-fantasy",
   "metadata": {},
   "source": [
    "## 1.Importing libraries to start wrangling and plotting "
   ]
  },
  {
   "cell_type": "code",
   "execution_count": 1,
   "id": "infrared-supplement",
   "metadata": {},
   "outputs": [],
   "source": [
    "import pandas as pd\n",
    "import numpy as np\n",
    "import matplotlib.pyplot as plt\n",
    "import seaborn as sns \n",
    "import datetime\n",
    "%matplotlib inline\n",
    "#We use matplotlib inline to store the graphs generated in the jupyter notebook\n",
    "import warnings\n",
    "warnings.filterwarnings('ignore')\n",
    "#When wrangling a pandas shows several warning for methods that will be out of the package in the future, \n",
    "#and when overwriting the columns. "
   ]
  },
  {
   "cell_type": "markdown",
   "id": "exempt-coast",
   "metadata": {},
   "source": [
    "## 2.Import data"
   ]
  },
  {
   "cell_type": "code",
   "execution_count": 2,
   "id": "assumed-sessions",
   "metadata": {},
   "outputs": [],
   "source": [
    "data = pd.read_csv('C:/Users/asomm/Desktop/Iron-bcamp/Case-Study-Regression/data/regression_data.csv',\n",
    "                   names = ['id','date_sold','bedrooms','bathrooms','sqft_living','sqft_lot', 'floors',\n",
    "                           'waterfront','view','cond','grade','sqft_above','sqft_basement','yr_built',\n",
    "                           'yr_renovated','zipcode','latitude','longitude','sqft_living15','sqft_lot15','price'])"
   ]
  },
  {
   "cell_type": "code",
   "execution_count": 3,
   "id": "agricultural-bermuda",
   "metadata": {},
   "outputs": [
    {
     "data": {
      "text/html": [
       "<div>\n",
       "<style scoped>\n",
       "    .dataframe tbody tr th:only-of-type {\n",
       "        vertical-align: middle;\n",
       "    }\n",
       "\n",
       "    .dataframe tbody tr th {\n",
       "        vertical-align: top;\n",
       "    }\n",
       "\n",
       "    .dataframe thead th {\n",
       "        text-align: right;\n",
       "    }\n",
       "</style>\n",
       "<table border=\"1\" class=\"dataframe\">\n",
       "  <thead>\n",
       "    <tr style=\"text-align: right;\">\n",
       "      <th></th>\n",
       "      <th>id</th>\n",
       "      <th>date_sold</th>\n",
       "      <th>bedrooms</th>\n",
       "      <th>bathrooms</th>\n",
       "      <th>sqft_living</th>\n",
       "      <th>sqft_lot</th>\n",
       "      <th>floors</th>\n",
       "      <th>waterfront</th>\n",
       "      <th>view</th>\n",
       "      <th>cond</th>\n",
       "      <th>...</th>\n",
       "      <th>sqft_above</th>\n",
       "      <th>sqft_basement</th>\n",
       "      <th>yr_built</th>\n",
       "      <th>yr_renovated</th>\n",
       "      <th>zipcode</th>\n",
       "      <th>latitude</th>\n",
       "      <th>longitude</th>\n",
       "      <th>sqft_living15</th>\n",
       "      <th>sqft_lot15</th>\n",
       "      <th>price</th>\n",
       "    </tr>\n",
       "  </thead>\n",
       "  <tbody>\n",
       "    <tr>\n",
       "      <th>0</th>\n",
       "      <td>7129300520</td>\n",
       "      <td>10/13/14</td>\n",
       "      <td>3</td>\n",
       "      <td>1.00</td>\n",
       "      <td>1180</td>\n",
       "      <td>5650</td>\n",
       "      <td>1.0</td>\n",
       "      <td>0</td>\n",
       "      <td>0</td>\n",
       "      <td>3</td>\n",
       "      <td>...</td>\n",
       "      <td>1180</td>\n",
       "      <td>0</td>\n",
       "      <td>1955</td>\n",
       "      <td>0</td>\n",
       "      <td>98178</td>\n",
       "      <td>47.5112</td>\n",
       "      <td>-122.257</td>\n",
       "      <td>1340</td>\n",
       "      <td>5650</td>\n",
       "      <td>221900</td>\n",
       "    </tr>\n",
       "    <tr>\n",
       "      <th>1</th>\n",
       "      <td>6414100192</td>\n",
       "      <td>12/9/14</td>\n",
       "      <td>3</td>\n",
       "      <td>2.25</td>\n",
       "      <td>2570</td>\n",
       "      <td>7242</td>\n",
       "      <td>2.0</td>\n",
       "      <td>0</td>\n",
       "      <td>0</td>\n",
       "      <td>3</td>\n",
       "      <td>...</td>\n",
       "      <td>2170</td>\n",
       "      <td>400</td>\n",
       "      <td>1951</td>\n",
       "      <td>1991</td>\n",
       "      <td>98125</td>\n",
       "      <td>47.7210</td>\n",
       "      <td>-122.319</td>\n",
       "      <td>1690</td>\n",
       "      <td>7639</td>\n",
       "      <td>538000</td>\n",
       "    </tr>\n",
       "    <tr>\n",
       "      <th>2</th>\n",
       "      <td>5631500400</td>\n",
       "      <td>2/25/15</td>\n",
       "      <td>2</td>\n",
       "      <td>1.00</td>\n",
       "      <td>770</td>\n",
       "      <td>10000</td>\n",
       "      <td>1.0</td>\n",
       "      <td>0</td>\n",
       "      <td>0</td>\n",
       "      <td>3</td>\n",
       "      <td>...</td>\n",
       "      <td>770</td>\n",
       "      <td>0</td>\n",
       "      <td>1933</td>\n",
       "      <td>0</td>\n",
       "      <td>98028</td>\n",
       "      <td>47.7379</td>\n",
       "      <td>-122.233</td>\n",
       "      <td>2720</td>\n",
       "      <td>8062</td>\n",
       "      <td>180000</td>\n",
       "    </tr>\n",
       "    <tr>\n",
       "      <th>3</th>\n",
       "      <td>2487200875</td>\n",
       "      <td>12/9/14</td>\n",
       "      <td>4</td>\n",
       "      <td>3.00</td>\n",
       "      <td>1960</td>\n",
       "      <td>5000</td>\n",
       "      <td>1.0</td>\n",
       "      <td>0</td>\n",
       "      <td>0</td>\n",
       "      <td>5</td>\n",
       "      <td>...</td>\n",
       "      <td>1050</td>\n",
       "      <td>910</td>\n",
       "      <td>1965</td>\n",
       "      <td>0</td>\n",
       "      <td>98136</td>\n",
       "      <td>47.5208</td>\n",
       "      <td>-122.393</td>\n",
       "      <td>1360</td>\n",
       "      <td>5000</td>\n",
       "      <td>604000</td>\n",
       "    </tr>\n",
       "    <tr>\n",
       "      <th>4</th>\n",
       "      <td>1954400510</td>\n",
       "      <td>2/18/15</td>\n",
       "      <td>3</td>\n",
       "      <td>2.00</td>\n",
       "      <td>1680</td>\n",
       "      <td>8080</td>\n",
       "      <td>1.0</td>\n",
       "      <td>0</td>\n",
       "      <td>0</td>\n",
       "      <td>3</td>\n",
       "      <td>...</td>\n",
       "      <td>1680</td>\n",
       "      <td>0</td>\n",
       "      <td>1987</td>\n",
       "      <td>0</td>\n",
       "      <td>98074</td>\n",
       "      <td>47.6168</td>\n",
       "      <td>-122.045</td>\n",
       "      <td>1800</td>\n",
       "      <td>7503</td>\n",
       "      <td>510000</td>\n",
       "    </tr>\n",
       "    <tr>\n",
       "      <th>...</th>\n",
       "      <td>...</td>\n",
       "      <td>...</td>\n",
       "      <td>...</td>\n",
       "      <td>...</td>\n",
       "      <td>...</td>\n",
       "      <td>...</td>\n",
       "      <td>...</td>\n",
       "      <td>...</td>\n",
       "      <td>...</td>\n",
       "      <td>...</td>\n",
       "      <td>...</td>\n",
       "      <td>...</td>\n",
       "      <td>...</td>\n",
       "      <td>...</td>\n",
       "      <td>...</td>\n",
       "      <td>...</td>\n",
       "      <td>...</td>\n",
       "      <td>...</td>\n",
       "      <td>...</td>\n",
       "      <td>...</td>\n",
       "      <td>...</td>\n",
       "    </tr>\n",
       "    <tr>\n",
       "      <th>21592</th>\n",
       "      <td>263000018</td>\n",
       "      <td>5/21/14</td>\n",
       "      <td>3</td>\n",
       "      <td>2.50</td>\n",
       "      <td>1530</td>\n",
       "      <td>1131</td>\n",
       "      <td>3.0</td>\n",
       "      <td>0</td>\n",
       "      <td>0</td>\n",
       "      <td>3</td>\n",
       "      <td>...</td>\n",
       "      <td>1530</td>\n",
       "      <td>0</td>\n",
       "      <td>2009</td>\n",
       "      <td>0</td>\n",
       "      <td>98103</td>\n",
       "      <td>47.6993</td>\n",
       "      <td>-122.346</td>\n",
       "      <td>1530</td>\n",
       "      <td>1509</td>\n",
       "      <td>360000</td>\n",
       "    </tr>\n",
       "    <tr>\n",
       "      <th>21593</th>\n",
       "      <td>6600060120</td>\n",
       "      <td>2/23/15</td>\n",
       "      <td>4</td>\n",
       "      <td>2.50</td>\n",
       "      <td>2310</td>\n",
       "      <td>5813</td>\n",
       "      <td>2.0</td>\n",
       "      <td>0</td>\n",
       "      <td>0</td>\n",
       "      <td>3</td>\n",
       "      <td>...</td>\n",
       "      <td>2310</td>\n",
       "      <td>0</td>\n",
       "      <td>2014</td>\n",
       "      <td>0</td>\n",
       "      <td>98146</td>\n",
       "      <td>47.5107</td>\n",
       "      <td>-122.362</td>\n",
       "      <td>1830</td>\n",
       "      <td>7200</td>\n",
       "      <td>400000</td>\n",
       "    </tr>\n",
       "    <tr>\n",
       "      <th>21594</th>\n",
       "      <td>1523300141</td>\n",
       "      <td>6/23/14</td>\n",
       "      <td>2</td>\n",
       "      <td>0.75</td>\n",
       "      <td>1020</td>\n",
       "      <td>1350</td>\n",
       "      <td>2.0</td>\n",
       "      <td>0</td>\n",
       "      <td>0</td>\n",
       "      <td>3</td>\n",
       "      <td>...</td>\n",
       "      <td>1020</td>\n",
       "      <td>0</td>\n",
       "      <td>2009</td>\n",
       "      <td>0</td>\n",
       "      <td>98144</td>\n",
       "      <td>47.5944</td>\n",
       "      <td>-122.299</td>\n",
       "      <td>1020</td>\n",
       "      <td>2007</td>\n",
       "      <td>402101</td>\n",
       "    </tr>\n",
       "    <tr>\n",
       "      <th>21595</th>\n",
       "      <td>291310100</td>\n",
       "      <td>1/16/15</td>\n",
       "      <td>3</td>\n",
       "      <td>2.50</td>\n",
       "      <td>1600</td>\n",
       "      <td>2388</td>\n",
       "      <td>2.0</td>\n",
       "      <td>0</td>\n",
       "      <td>0</td>\n",
       "      <td>3</td>\n",
       "      <td>...</td>\n",
       "      <td>1600</td>\n",
       "      <td>0</td>\n",
       "      <td>2004</td>\n",
       "      <td>0</td>\n",
       "      <td>98027</td>\n",
       "      <td>47.5345</td>\n",
       "      <td>-122.069</td>\n",
       "      <td>1410</td>\n",
       "      <td>1287</td>\n",
       "      <td>400000</td>\n",
       "    </tr>\n",
       "    <tr>\n",
       "      <th>21596</th>\n",
       "      <td>1523300157</td>\n",
       "      <td>10/15/14</td>\n",
       "      <td>2</td>\n",
       "      <td>0.75</td>\n",
       "      <td>1020</td>\n",
       "      <td>1076</td>\n",
       "      <td>2.0</td>\n",
       "      <td>0</td>\n",
       "      <td>0</td>\n",
       "      <td>3</td>\n",
       "      <td>...</td>\n",
       "      <td>1020</td>\n",
       "      <td>0</td>\n",
       "      <td>2008</td>\n",
       "      <td>0</td>\n",
       "      <td>98144</td>\n",
       "      <td>47.5941</td>\n",
       "      <td>-122.299</td>\n",
       "      <td>1020</td>\n",
       "      <td>1357</td>\n",
       "      <td>325000</td>\n",
       "    </tr>\n",
       "  </tbody>\n",
       "</table>\n",
       "<p>21597 rows × 21 columns</p>\n",
       "</div>"
      ],
      "text/plain": [
       "               id date_sold  bedrooms  bathrooms  sqft_living  sqft_lot  \\\n",
       "0      7129300520  10/13/14         3       1.00         1180      5650   \n",
       "1      6414100192   12/9/14         3       2.25         2570      7242   \n",
       "2      5631500400   2/25/15         2       1.00          770     10000   \n",
       "3      2487200875   12/9/14         4       3.00         1960      5000   \n",
       "4      1954400510   2/18/15         3       2.00         1680      8080   \n",
       "...           ...       ...       ...        ...          ...       ...   \n",
       "21592   263000018   5/21/14         3       2.50         1530      1131   \n",
       "21593  6600060120   2/23/15         4       2.50         2310      5813   \n",
       "21594  1523300141   6/23/14         2       0.75         1020      1350   \n",
       "21595   291310100   1/16/15         3       2.50         1600      2388   \n",
       "21596  1523300157  10/15/14         2       0.75         1020      1076   \n",
       "\n",
       "       floors  waterfront  view  cond  ...  sqft_above  sqft_basement  \\\n",
       "0         1.0           0     0     3  ...        1180              0   \n",
       "1         2.0           0     0     3  ...        2170            400   \n",
       "2         1.0           0     0     3  ...         770              0   \n",
       "3         1.0           0     0     5  ...        1050            910   \n",
       "4         1.0           0     0     3  ...        1680              0   \n",
       "...       ...         ...   ...   ...  ...         ...            ...   \n",
       "21592     3.0           0     0     3  ...        1530              0   \n",
       "21593     2.0           0     0     3  ...        2310              0   \n",
       "21594     2.0           0     0     3  ...        1020              0   \n",
       "21595     2.0           0     0     3  ...        1600              0   \n",
       "21596     2.0           0     0     3  ...        1020              0   \n",
       "\n",
       "       yr_built  yr_renovated  zipcode  latitude  longitude  sqft_living15  \\\n",
       "0          1955             0    98178   47.5112   -122.257           1340   \n",
       "1          1951          1991    98125   47.7210   -122.319           1690   \n",
       "2          1933             0    98028   47.7379   -122.233           2720   \n",
       "3          1965             0    98136   47.5208   -122.393           1360   \n",
       "4          1987             0    98074   47.6168   -122.045           1800   \n",
       "...         ...           ...      ...       ...        ...            ...   \n",
       "21592      2009             0    98103   47.6993   -122.346           1530   \n",
       "21593      2014             0    98146   47.5107   -122.362           1830   \n",
       "21594      2009             0    98144   47.5944   -122.299           1020   \n",
       "21595      2004             0    98027   47.5345   -122.069           1410   \n",
       "21596      2008             0    98144   47.5941   -122.299           1020   \n",
       "\n",
       "       sqft_lot15   price  \n",
       "0            5650  221900  \n",
       "1            7639  538000  \n",
       "2            8062  180000  \n",
       "3            5000  604000  \n",
       "4            7503  510000  \n",
       "...           ...     ...  \n",
       "21592        1509  360000  \n",
       "21593        7200  400000  \n",
       "21594        2007  402101  \n",
       "21595        1287  400000  \n",
       "21596        1357  325000  \n",
       "\n",
       "[21597 rows x 21 columns]"
      ]
     },
     "execution_count": 3,
     "metadata": {},
     "output_type": "execute_result"
    }
   ],
   "source": [
    "data"
   ]
  },
  {
   "cell_type": "code",
   "execution_count": 4,
   "id": "premium-survivor",
   "metadata": {},
   "outputs": [
    {
     "name": "stdout",
     "output_type": "stream",
     "text": [
      "<class 'pandas.core.frame.DataFrame'>\n",
      "RangeIndex: 21597 entries, 0 to 21596\n",
      "Data columns (total 21 columns):\n",
      " #   Column         Non-Null Count  Dtype  \n",
      "---  ------         --------------  -----  \n",
      " 0   id             21597 non-null  int64  \n",
      " 1   date_sold      21597 non-null  object \n",
      " 2   bedrooms       21597 non-null  int64  \n",
      " 3   bathrooms      21597 non-null  float64\n",
      " 4   sqft_living    21597 non-null  int64  \n",
      " 5   sqft_lot       21597 non-null  int64  \n",
      " 6   floors         21597 non-null  float64\n",
      " 7   waterfront     21597 non-null  int64  \n",
      " 8   view           21597 non-null  int64  \n",
      " 9   cond           21597 non-null  int64  \n",
      " 10  grade          21597 non-null  int64  \n",
      " 11  sqft_above     21597 non-null  int64  \n",
      " 12  sqft_basement  21597 non-null  int64  \n",
      " 13  yr_built       21597 non-null  int64  \n",
      " 14  yr_renovated   21597 non-null  int64  \n",
      " 15  zipcode        21597 non-null  int64  \n",
      " 16  latitude       21597 non-null  float64\n",
      " 17  longitude      21597 non-null  float64\n",
      " 18  sqft_living15  21597 non-null  int64  \n",
      " 19  sqft_lot15     21597 non-null  int64  \n",
      " 20  price          21597 non-null  int64  \n",
      "dtypes: float64(4), int64(16), object(1)\n",
      "memory usage: 3.5+ MB\n"
     ]
    }
   ],
   "source": [
    "data.info()"
   ]
  },
  {
   "cell_type": "markdown",
   "id": "quick-alignment",
   "metadata": {},
   "source": [
    "## 3.Start cleaning\n",
    "We will start by preparing the data to export, to be used later in Tableau, setting dtypes, and creating new columns with better information to be plotted. \n",
    "Happily we do not have any null values, so we can jump directly into removing duplicates, checking the data types, and see if there are any spelling errors, or input errors in our data. \n",
    "* let's first check for duplicated rows "
   ]
  },
  {
   "cell_type": "code",
   "execution_count": 5,
   "id": "approved-claim",
   "metadata": {},
   "outputs": [
    {
     "data": {
      "text/plain": [
       "0"
      ]
     },
     "execution_count": 5,
     "metadata": {},
     "output_type": "execute_result"
    }
   ],
   "source": [
    "sum(data.duplicated())"
   ]
  },
  {
   "cell_type": "markdown",
   "id": "expected-threshold",
   "metadata": {},
   "source": [
    "* We start with setting the date_sold column into a datetime series "
   ]
  },
  {
   "cell_type": "code",
   "execution_count": 6,
   "id": "vulnerable-coaching",
   "metadata": {},
   "outputs": [],
   "source": [
    "data['date_sold'] = pd.to_datetime(data['date_sold'])"
   ]
  },
  {
   "cell_type": "code",
   "execution_count": 7,
   "id": "agricultural-ceramic",
   "metadata": {},
   "outputs": [
    {
     "data": {
      "text/plain": [
       "Timestamp('2015-02-18 00:00:00')"
      ]
     },
     "execution_count": 7,
     "metadata": {},
     "output_type": "execute_result"
    }
   ],
   "source": [
    "data['date_sold'].loc[4]"
   ]
  },
  {
   "cell_type": "markdown",
   "id": "ahead-dayton",
   "metadata": {},
   "source": [
    "* We can loop over the columns value counts() to further explore other columns:"
   ]
  },
  {
   "cell_type": "code",
   "execution_count": 8,
   "id": "continuous-germany",
   "metadata": {},
   "outputs": [
    {
     "name": "stdout",
     "output_type": "stream",
     "text": [
      "\n",
      "------id------\n",
      "\n",
      "795000620     3\n",
      "1568100300    2\n",
      "2892700041    2\n",
      "1450100390    2\n",
      "3395040550    2\n",
      "             ..\n",
      "2595650170    1\n",
      "7212651100    1\n",
      "9808700025    1\n",
      "6772200055    1\n",
      "2424410110    1\n",
      "Name: id, Length: 21420, dtype: int64\n",
      "\n",
      "------date_sold------\n",
      "\n",
      "2014-06-23    142\n",
      "2014-06-26    131\n",
      "2014-06-25    131\n",
      "2014-07-08    127\n",
      "2015-04-27    126\n",
      "             ... \n",
      "2014-05-17      1\n",
      "2014-07-27      1\n",
      "2014-08-03      1\n",
      "2014-11-02      1\n",
      "2015-05-24      1\n",
      "Name: date_sold, Length: 372, dtype: int64\n",
      "\n",
      "------bedrooms------\n",
      "\n",
      "3     9824\n",
      "4     6882\n",
      "2     2760\n",
      "5     1601\n",
      "6      272\n",
      "1      196\n",
      "7       38\n",
      "8       13\n",
      "9        6\n",
      "10       3\n",
      "33       1\n",
      "11       1\n",
      "Name: bedrooms, dtype: int64\n",
      "\n",
      "------bathrooms------\n",
      "\n",
      "2.50    5377\n",
      "1.00    3851\n",
      "1.75    3048\n",
      "2.25    2047\n",
      "2.00    1930\n",
      "1.50    1445\n",
      "2.75    1185\n",
      "3.00     753\n",
      "3.50     731\n",
      "3.25     589\n",
      "3.75     155\n",
      "4.00     136\n",
      "4.50     100\n",
      "4.25      79\n",
      "0.75      71\n",
      "4.75      23\n",
      "5.00      21\n",
      "5.25      13\n",
      "5.50      10\n",
      "1.25       9\n",
      "6.00       6\n",
      "5.75       4\n",
      "0.50       4\n",
      "6.25       2\n",
      "8.00       2\n",
      "6.75       2\n",
      "6.50       2\n",
      "7.75       1\n",
      "7.50       1\n",
      "Name: bathrooms, dtype: int64\n",
      "\n",
      "------sqft_living------\n",
      "\n",
      "1300    138\n",
      "1400    135\n",
      "1440    133\n",
      "1010    129\n",
      "1660    129\n",
      "       ... \n",
      "2678      1\n",
      "6900      1\n",
      "6980      1\n",
      "3078      1\n",
      "2031      1\n",
      "Name: sqft_living, Length: 1034, dtype: int64\n",
      "\n",
      "------sqft_lot------\n",
      "\n",
      "5000     358\n",
      "6000     290\n",
      "4000     251\n",
      "7200     220\n",
      "4800     119\n",
      "        ... \n",
      "19745      1\n",
      "13598      1\n",
      "11549      1\n",
      "26862      1\n",
      "36862      1\n",
      "Name: sqft_lot, Length: 9776, dtype: int64\n",
      "\n",
      "------floors------\n",
      "\n",
      "1.0    10673\n",
      "2.0     8235\n",
      "1.5     1910\n",
      "3.0      611\n",
      "2.5      161\n",
      "3.5        7\n",
      "Name: floors, dtype: int64\n",
      "\n",
      "------waterfront------\n",
      "\n",
      "0    21434\n",
      "1      163\n",
      "Name: waterfront, dtype: int64\n",
      "\n",
      "------view------\n",
      "\n",
      "0    19475\n",
      "2      961\n",
      "3      510\n",
      "1      332\n",
      "4      319\n",
      "Name: view, dtype: int64\n",
      "\n",
      "------cond------\n",
      "\n",
      "3    14020\n",
      "4     5677\n",
      "5     1701\n",
      "2      170\n",
      "1       29\n",
      "Name: cond, dtype: int64\n",
      "\n",
      "------grade------\n",
      "\n",
      "7     8974\n",
      "8     6065\n",
      "9     2615\n",
      "6     2038\n",
      "10    1134\n",
      "11     399\n",
      "5      242\n",
      "12      89\n",
      "4       27\n",
      "13      13\n",
      "3        1\n",
      "Name: grade, dtype: int64\n",
      "\n",
      "------sqft_above------\n",
      "\n",
      "1300    212\n",
      "1010    210\n",
      "1200    206\n",
      "1220    192\n",
      "1140    184\n",
      "       ... \n",
      "2198      1\n",
      "6420      1\n",
      "2406      1\n",
      "2502      1\n",
      "2031      1\n",
      "Name: sqft_above, Length: 942, dtype: int64\n",
      "\n",
      "------sqft_basement------\n",
      "\n",
      "0       13110\n",
      "600       221\n",
      "700       218\n",
      "500       214\n",
      "800       206\n",
      "        ...  \n",
      "65          1\n",
      "1248        1\n",
      "172         1\n",
      "1920        1\n",
      "1135        1\n",
      "Name: sqft_basement, Length: 306, dtype: int64\n",
      "\n",
      "------yr_built------\n",
      "\n",
      "2014    559\n",
      "2006    453\n",
      "2005    450\n",
      "2004    433\n",
      "2003    420\n",
      "       ... \n",
      "1933     30\n",
      "1901     29\n",
      "1902     27\n",
      "1935     24\n",
      "1934     21\n",
      "Name: yr_built, Length: 116, dtype: int64\n",
      "\n",
      "------yr_renovated------\n",
      "\n",
      "0       20683\n",
      "2014       91\n",
      "2013       37\n",
      "2003       36\n",
      "2007       35\n",
      "        ...  \n",
      "1948        1\n",
      "1954        1\n",
      "1951        1\n",
      "1944        1\n",
      "1959        1\n",
      "Name: yr_renovated, Length: 70, dtype: int64\n",
      "\n",
      "------zipcode------\n",
      "\n",
      "98103    602\n",
      "98038    589\n",
      "98115    583\n",
      "98052    574\n",
      "98117    553\n",
      "        ... \n",
      "98102    104\n",
      "98010    100\n",
      "98024     80\n",
      "98148     57\n",
      "98039     50\n",
      "Name: zipcode, Length: 70, dtype: int64\n",
      "\n",
      "------latitude------\n",
      "\n",
      "47.5322    17\n",
      "47.6846    17\n",
      "47.5491    17\n",
      "47.6624    17\n",
      "47.6955    16\n",
      "           ..\n",
      "47.3354     1\n",
      "47.3008     1\n",
      "47.3820     1\n",
      "47.4142     1\n",
      "47.2706     1\n",
      "Name: latitude, Length: 5033, dtype: int64\n",
      "\n",
      "------longitude------\n",
      "\n",
      "-122.290    115\n",
      "-122.300    111\n",
      "-122.362    104\n",
      "-122.291    100\n",
      "-122.363     99\n",
      "           ... \n",
      "-121.417      1\n",
      "-121.321      1\n",
      "-121.737      1\n",
      "-122.458      1\n",
      "-122.448      1\n",
      "Name: longitude, Length: 751, dtype: int64\n",
      "\n",
      "------sqft_living15------\n",
      "\n",
      "1540    197\n",
      "1440    195\n",
      "1560    192\n",
      "1500    180\n",
      "1460    169\n",
      "       ... \n",
      "1399      1\n",
      "1303      1\n",
      "3078      1\n",
      "2822      1\n",
      "2015      1\n",
      "Name: sqft_living15, Length: 777, dtype: int64\n",
      "\n",
      "------sqft_lot15------\n",
      "\n",
      "5000     427\n",
      "4000     356\n",
      "6000     288\n",
      "7200     210\n",
      "4800     145\n",
      "        ... \n",
      "11816      1\n",
      "1734       1\n",
      "7877       1\n",
      "1718       1\n",
      "2047       1\n",
      "Name: sqft_lot15, Length: 8682, dtype: int64\n",
      "\n",
      "------price------\n",
      "\n",
      "450000    172\n",
      "350000    172\n",
      "550000    159\n",
      "500000    152\n",
      "425000    150\n",
      "         ... \n",
      "554600      1\n",
      "329350      1\n",
      "378510      1\n",
      "212625      1\n",
      "303100      1\n",
      "Name: price, Length: 3622, dtype: int64\n"
     ]
    }
   ],
   "source": [
    "for col in data.columns:\n",
    "    print ('\\n------'+col+'------\\n')\n",
    "    print(data[col].value_counts())"
   ]
  },
  {
   "cell_type": "markdown",
   "id": "saving-judge",
   "metadata": {},
   "source": [
    "* We can see there are duplicated IDs, let's find out why. "
   ]
  },
  {
   "cell_type": "code",
   "execution_count": 9,
   "id": "lasting-nomination",
   "metadata": {},
   "outputs": [
    {
     "data": {
      "text/plain": [
       "795000620     3\n",
       "1568100300    2\n",
       "2892700041    2\n",
       "1450100390    2\n",
       "3395040550    2\n",
       "             ..\n",
       "2595650170    1\n",
       "7212651100    1\n",
       "9808700025    1\n",
       "6772200055    1\n",
       "2424410110    1\n",
       "Name: id, Length: 21420, dtype: int64"
      ]
     },
     "execution_count": 9,
     "metadata": {},
     "output_type": "execute_result"
    }
   ],
   "source": [
    "data['id'].value_counts()"
   ]
  },
  {
   "cell_type": "code",
   "execution_count": 10,
   "id": "demonstrated-mainland",
   "metadata": {},
   "outputs": [
    {
     "data": {
      "text/html": [
       "<div>\n",
       "<style scoped>\n",
       "    .dataframe tbody tr th:only-of-type {\n",
       "        vertical-align: middle;\n",
       "    }\n",
       "\n",
       "    .dataframe tbody tr th {\n",
       "        vertical-align: top;\n",
       "    }\n",
       "\n",
       "    .dataframe thead th {\n",
       "        text-align: right;\n",
       "    }\n",
       "</style>\n",
       "<table border=\"1\" class=\"dataframe\">\n",
       "  <thead>\n",
       "    <tr style=\"text-align: right;\">\n",
       "      <th></th>\n",
       "      <th>id</th>\n",
       "      <th>date_sold</th>\n",
       "      <th>bedrooms</th>\n",
       "      <th>bathrooms</th>\n",
       "      <th>sqft_living</th>\n",
       "      <th>sqft_lot</th>\n",
       "      <th>floors</th>\n",
       "      <th>waterfront</th>\n",
       "      <th>view</th>\n",
       "      <th>cond</th>\n",
       "      <th>...</th>\n",
       "      <th>sqft_above</th>\n",
       "      <th>sqft_basement</th>\n",
       "      <th>yr_built</th>\n",
       "      <th>yr_renovated</th>\n",
       "      <th>zipcode</th>\n",
       "      <th>latitude</th>\n",
       "      <th>longitude</th>\n",
       "      <th>sqft_living15</th>\n",
       "      <th>sqft_lot15</th>\n",
       "      <th>price</th>\n",
       "    </tr>\n",
       "  </thead>\n",
       "  <tbody>\n",
       "    <tr>\n",
       "      <th>17588</th>\n",
       "      <td>795000620</td>\n",
       "      <td>2014-09-24</td>\n",
       "      <td>3</td>\n",
       "      <td>1.0</td>\n",
       "      <td>1080</td>\n",
       "      <td>6250</td>\n",
       "      <td>1.0</td>\n",
       "      <td>0</td>\n",
       "      <td>0</td>\n",
       "      <td>2</td>\n",
       "      <td>...</td>\n",
       "      <td>1080</td>\n",
       "      <td>0</td>\n",
       "      <td>1950</td>\n",
       "      <td>0</td>\n",
       "      <td>98168</td>\n",
       "      <td>47.5045</td>\n",
       "      <td>-122.33</td>\n",
       "      <td>1070</td>\n",
       "      <td>6250</td>\n",
       "      <td>115000</td>\n",
       "    </tr>\n",
       "    <tr>\n",
       "      <th>17589</th>\n",
       "      <td>795000620</td>\n",
       "      <td>2014-12-15</td>\n",
       "      <td>3</td>\n",
       "      <td>1.0</td>\n",
       "      <td>1080</td>\n",
       "      <td>6250</td>\n",
       "      <td>1.0</td>\n",
       "      <td>0</td>\n",
       "      <td>0</td>\n",
       "      <td>2</td>\n",
       "      <td>...</td>\n",
       "      <td>1080</td>\n",
       "      <td>0</td>\n",
       "      <td>1950</td>\n",
       "      <td>0</td>\n",
       "      <td>98168</td>\n",
       "      <td>47.5045</td>\n",
       "      <td>-122.33</td>\n",
       "      <td>1070</td>\n",
       "      <td>6250</td>\n",
       "      <td>124000</td>\n",
       "    </tr>\n",
       "    <tr>\n",
       "      <th>17590</th>\n",
       "      <td>795000620</td>\n",
       "      <td>2015-03-11</td>\n",
       "      <td>3</td>\n",
       "      <td>1.0</td>\n",
       "      <td>1080</td>\n",
       "      <td>6250</td>\n",
       "      <td>1.0</td>\n",
       "      <td>0</td>\n",
       "      <td>0</td>\n",
       "      <td>2</td>\n",
       "      <td>...</td>\n",
       "      <td>1080</td>\n",
       "      <td>0</td>\n",
       "      <td>1950</td>\n",
       "      <td>0</td>\n",
       "      <td>98168</td>\n",
       "      <td>47.5045</td>\n",
       "      <td>-122.33</td>\n",
       "      <td>1070</td>\n",
       "      <td>6250</td>\n",
       "      <td>157000</td>\n",
       "    </tr>\n",
       "  </tbody>\n",
       "</table>\n",
       "<p>3 rows × 21 columns</p>\n",
       "</div>"
      ],
      "text/plain": [
       "              id  date_sold  bedrooms  bathrooms  sqft_living  sqft_lot  \\\n",
       "17588  795000620 2014-09-24         3        1.0         1080      6250   \n",
       "17589  795000620 2014-12-15         3        1.0         1080      6250   \n",
       "17590  795000620 2015-03-11         3        1.0         1080      6250   \n",
       "\n",
       "       floors  waterfront  view  cond  ...  sqft_above  sqft_basement  \\\n",
       "17588     1.0           0     0     2  ...        1080              0   \n",
       "17589     1.0           0     0     2  ...        1080              0   \n",
       "17590     1.0           0     0     2  ...        1080              0   \n",
       "\n",
       "       yr_built  yr_renovated  zipcode  latitude  longitude  sqft_living15  \\\n",
       "17588      1950             0    98168   47.5045    -122.33           1070   \n",
       "17589      1950             0    98168   47.5045    -122.33           1070   \n",
       "17590      1950             0    98168   47.5045    -122.33           1070   \n",
       "\n",
       "       sqft_lot15   price  \n",
       "17588        6250  115000  \n",
       "17589        6250  124000  \n",
       "17590        6250  157000  \n",
       "\n",
       "[3 rows x 21 columns]"
      ]
     },
     "execution_count": 10,
     "metadata": {},
     "output_type": "execute_result"
    }
   ],
   "source": [
    "data[data['id']==795000620]"
   ]
  },
  {
   "cell_type": "markdown",
   "id": "distributed-domestic",
   "metadata": {},
   "source": [
    "These three listings indicate that the same house has been sold three times with different prices, so we will keep these duplicates, as it adds up value to the prediction we will want to calculate later. "
   ]
  },
  {
   "cell_type": "markdown",
   "id": "special-james",
   "metadata": {},
   "source": [
    "* Then we can look into why the number of floors of the property is a float. "
   ]
  },
  {
   "cell_type": "code",
   "execution_count": 11,
   "id": "mighty-oasis",
   "metadata": {
    "scrolled": false
   },
   "outputs": [
    {
     "data": {
      "text/plain": [
       "1.0    10673\n",
       "2.0     8235\n",
       "1.5     1910\n",
       "3.0      611\n",
       "2.5      161\n",
       "3.5        7\n",
       "Name: floors, dtype: int64"
      ]
     },
     "execution_count": 11,
     "metadata": {},
     "output_type": "execute_result"
    }
   ],
   "source": [
    "data['floors'].value_counts()"
   ]
  },
  {
   "cell_type": "markdown",
   "id": "roman-yacht",
   "metadata": {},
   "source": [
    "Seeing that half floors are common, we leave it as it is. Later we could put turn this data to categorical, as more floors don't necessarily mean the property is better, as many people value the house to be at floor level.  \n",
    "\n",
    "We don't see any more corrupted data, there might be indeed outliers, but we will deal with them either in our Tableau visualizations, or later while doing the wrangling and preprocessing for the regression models. "
   ]
  },
  {
   "cell_type": "markdown",
   "id": "eligible-departure",
   "metadata": {},
   "source": [
    "### More cleaning to prepare for models application\n",
    "* Removing outliers from numerical categories"
   ]
  },
  {
   "cell_type": "code",
   "execution_count": 12,
   "id": "integral-letters",
   "metadata": {},
   "outputs": [
    {
     "data": {
      "image/png": "[encoded data removed]",
      "text/plain": [
       "<Figure size 1080x576 with 1 Axes>"
      ]
     },
     "metadata": {
      "needs_background": "light"
     },
     "output_type": "display_data"
    }
   ],
   "source": [
    "plt.figure(figsize=(15,8))\n",
    "sns.boxplot(x=\"variable\", y=\"value\", data=pd.melt(data[['sqft_living','sqft_lot','sqft_above','sqft_basement','sqft_living15','sqft_lot15']]));"
   ]
  },
  {
   "cell_type": "code",
   "execution_count": 13,
   "id": "built-elements",
   "metadata": {},
   "outputs": [
    {
     "data": {
      "text/plain": [
       "(21597, 21)"
      ]
     },
     "execution_count": 13,
     "metadata": {},
     "output_type": "execute_result"
    }
   ],
   "source": [
    "data.shape"
   ]
  },
  {
   "cell_type": "code",
   "execution_count": 14,
   "id": "desperate-teacher",
   "metadata": {},
   "outputs": [
    {
     "data": {
      "image/png": "[encoded data removed]",
      "text/plain": [
       "<Figure size 1080x576 with 1 Axes>"
      ]
     },
     "metadata": {
      "needs_background": "light"
     },
     "output_type": "display_data"
    }
   ],
   "source": [
    "plt.figure(figsize=(15,8))\n",
    "sns.boxplot(x=\"variable\", y=\"value\", data=pd.melt(data[['sqft_living','sqft_lot','sqft_above','sqft_basement','sqft_living15','sqft_lot15']]));"
   ]
  },
  {
   "cell_type": "code",
   "execution_count": 15,
   "id": "scenic-material",
   "metadata": {},
   "outputs": [],
   "source": [
    "data = data.reset_index(drop=True)"
   ]
  },
  {
   "cell_type": "markdown",
   "id": "nervous-miami",
   "metadata": {},
   "source": [
    " ### * At this point we can export the data to create visualizations in tableau. "
   ]
  },
  {
   "cell_type": "code",
   "execution_count": 16,
   "id": "extra-colon",
   "metadata": {},
   "outputs": [],
   "source": [
    "data.to_csv(\"C:/Users/asomm/Desktop/Iron-bcamp/Case-Study-Regression/tableau/export_ready_tableau.csv\")"
   ]
  },
  {
   "cell_type": "markdown",
   "id": "closing-grammar",
   "metadata": {},
   "source": [
    "## EDA"
   ]
  },
  {
   "cell_type": "code",
   "execution_count": 17,
   "id": "biological-extraction",
   "metadata": {},
   "outputs": [
    {
     "data": {
      "text/plain": [
       "<AxesSubplot:xlabel='sqft_lot', ylabel='price'>"
      ]
     },
     "execution_count": 17,
     "metadata": {},
     "output_type": "execute_result"
    },
    {
     "data": {
      "image/png": "[encoded data removed]",
      "text/plain": [
       "<Figure size 1080x576 with 1 Axes>"
      ]
     },
     "metadata": {
      "needs_background": "light"
     },
     "output_type": "display_data"
    }
   ],
   "source": [
    "plt.figure(figsize=(15,8))\n",
    "sns.scatterplot(data = data,x='sqft_lot',y = 'price')"
   ]
  },
  {
   "cell_type": "code",
   "execution_count": null,
   "id": "anticipated-tower",
   "metadata": {},
   "outputs": [],
   "source": []
  },
  {
   "cell_type": "markdown",
   "id": "olive-procurement",
   "metadata": {},
   "source": [
    "## 4. Preparing the results log, and the function that will execute the model every time.\n",
    "We start by creating a dataframe that will store the results of the tests, the test size we used, and a comment that will describe the wrangling steps that led us to this outcome. This way we can track easily the wrangling steps we went through, and we can learn what helps the model, and what is detrimental to its performance.  "
   ]
  },
  {
   "cell_type": "code",
   "execution_count": 18,
   "id": "noble-ozone",
   "metadata": {},
   "outputs": [],
   "source": [
    "#Create and reset the log with this cell\n",
    "reg_log = pd.DataFrame(columns = ['r2','adj_r2','mse','rmse','test_size','comment'])"
   ]
  },
  {
   "cell_type": "code",
   "execution_count": 19,
   "id": "focal-michael",
   "metadata": {},
   "outputs": [],
   "source": [
    "def apply_linear_regression(X,y,testsize = 0.4,comment = \"No comment added\"):\n",
    "    \"\"\"\n",
    "    This function will be used to apply a linear regression, log and print the results, the comments, and \n",
    "    save them in the log dataframe. Will return the same list logged in the dataframe. \n",
    "    A log pandas dataframe will have to be created beforehand executing this script:\n",
    "    reg_log = pd.DataFrame(columns = ['r2','adj_r2','mse','rmse','comment'])\n",
    "        \n",
    "    \"\"\"\n",
    "    \n",
    "    from sklearn.model_selection import train_test_split\n",
    "    from sklearn import linear_model\n",
    "    from sklearn.metrics import mean_squared_error, r2_score\n",
    "    \n",
    "    #Train test split, we can change the test size with the input, 40% will be default\n",
    "    X_train, X_test, y_train, y_test = train_test_split(X, y, test_size=testsize, random_state=100)\n",
    "    \n",
    "    #Assigning the model we will use, applying it and calculating test predictions \n",
    "    lm = linear_model.LinearRegression()\n",
    "    model = lm.fit(X_train,y_train)\n",
    "    predictions  = lm.predict(X_test)\n",
    "    \n",
    "    #Calculating and printing the test indicators\n",
    "    r2 = r2_score(y_test, predictions)\n",
    "    print( \"r2 Score:   \"+ str(r2))\n",
    "    \n",
    "    n = len(X_test) \n",
    "    p = X_test.shape[1]\n",
    "    adj_r2 = 1-((1-r2)*(n-1)/(n-p-1))\n",
    "    print(\"Adj. r2 Score:    \"+str(adj_r2))\n",
    "    \n",
    "    mse = mean_squared_error(y_test, predictions)\n",
    "    print(\"MSE Score:  \"+ str(mse))\n",
    "    \n",
    "    rmse = mse**(1/2)\n",
    "    print(\"RMSE Score: \"+ str(rmse))\n",
    "    \n",
    "    print(\"Comment:\", comment)\n",
    "    print(\"Test size:\", int(testsize*100), \"%\")\n",
    "    \n",
    "    global reg_log\n",
    "    \n",
    "    log_inp = [r2,adj_r2,mse,rmse,testsize,comment]\n",
    "    \n",
    "    reg_log.loc[len(reg_log)+1] = log_inp\n"
   ]
  },
  {
   "cell_type": "markdown",
   "id": "traditional-outdoors",
   "metadata": {},
   "source": [
    "Here we prepared a function that plots our progress over each attempt, so we can keep track of our outcome better:"
   ]
  },
  {
   "cell_type": "code",
   "execution_count": 20,
   "id": "macro-count",
   "metadata": {},
   "outputs": [],
   "source": [
    "#This will plot my progress of r2 and the mean squared error over each trial of optimization. \n",
    "def plot_log_show():\n",
    "    plt.figure(figsize=(15,5))\n",
    "    sns.lineplot(data=reg_log.r2, color=\"b\")\n",
    "    ax2 = plt.twinx()\n",
    "    plot = sns.lineplot(data=reg_log.mse, color=\"r\", ax=ax2)\n",
    "    plot.set_title('r2 (blue) and mse (red) over number of attempts');"
   ]
  },
  {
   "cell_type": "markdown",
   "id": "seeing-jason",
   "metadata": {},
   "source": [
    "## Pre processing\n",
    "Now that we have our tools to apply the model, we will start transforming the data, applying the model and testing it at each step, in order to gain knowledge over if our steps actually are beneficial or detrimental to the linear model.\n",
    "\n",
    "Let's check for multicollinearity and see if we should drop certain columns in the first place:"
   ]
  },
  {
   "cell_type": "code",
   "execution_count": 21,
   "id": "coastal-canadian",
   "metadata": {},
   "outputs": [
    {
     "data": {
      "image/png": "[encoded data removed]",
      "text/plain": [
       "<Figure size 1080x1080 with 2 Axes>"
      ]
     },
     "metadata": {
      "needs_background": "light"
     },
     "output_type": "display_data"
    }
   ],
   "source": [
    " def corr_matr_show(data):\n",
    "    correlations_matrix = data.corr()\n",
    "    mask = np.zeros_like(correlations_matrix)\n",
    "    mask[np.triu_indices_from(mask)] = True\n",
    "    fig, ax = plt.subplots(figsize=(15, 15))\n",
    "    ax = sns.heatmap(correlations_matrix, mask=mask, annot=True)\n",
    "    plt.show()\n",
    "    \n",
    "corr_matr_show(data)"
   ]
  },
  {
   "cell_type": "markdown",
   "id": "numerous-stations",
   "metadata": {},
   "source": [
    "The only measure I would touch later is sqft_above/sqft_living, as the correlation is very high.  We will start by creating the first log, by applying the model roughly and create a baseline with which we can compare our results."
   ]
  },
  {
   "cell_type": "code",
   "execution_count": 22,
   "id": "above-black",
   "metadata": {},
   "outputs": [],
   "source": [
    "#minmaxscaler for the date\n",
    "def minmax_apply(date_series):\n",
    "    from sklearn.preprocessing import minmax_scale \n",
    "    dates = minmax_scale(date_series)\n",
    "    return pd.DataFrame(dates.reshape(-1,1))\n",
    "\n",
    "#StandardScaler for the numerical values, we input a dataframe and itll return it normalised\n",
    "def stscaler_apply(X_pre):\n",
    "    from sklearn.preprocessing import StandardScaler\n",
    "    transformer = StandardScaler().fit(X_pre)\n",
    "    return pd.DataFrame(transformer.transform(X_pre))\n",
    "\n",
    "#OneHotEncoder for categorical data, used later.\n",
    "def onehot_apply(data):\n",
    "    from sklearn import preprocessing\n",
    "    le= preprocessing.LabelEncoder()\n",
    "    data_2 = data.apply(le.fit_transform)\n",
    "    \n",
    "    enc = preprocessing.OneHotEncoder()\n",
    "    enc.fit(data_2)\n",
    "    onehotlabels = enc.transform(data_2).toarray()\n",
    "    return pd.DataFrame(onehotlabels)"
   ]
  },
  {
   "cell_type": "code",
   "execution_count": 23,
   "id": "presidential-devices",
   "metadata": {},
   "outputs": [],
   "source": [
    "#we copy the original data to make a wrangling copy, so we can always recall originals when needed. \n",
    "datawr = pd.DataFrame(data)\n",
    "\n",
    "#And we can start dropping id, date and price_sold\n",
    "datawr.drop(['id','date_sold','price'],axis =1, inplace = True)\n",
    "\n",
    "#We deal with dates separately, as we use another scaler. \n",
    "dates = minmax_apply(data['date_sold'])\n",
    "#And we apply scaler to numericals:\n",
    "X_stand = stscaler_apply(datawr)\n",
    "\n",
    "X = pd.concat((dates,X_stand), axis = 1)\n",
    "y = data['price']"
   ]
  },
  {
   "cell_type": "markdown",
   "id": "recorded-honduras",
   "metadata": {},
   "source": [
    "**1st run**"
   ]
  },
  {
   "cell_type": "code",
   "execution_count": 24,
   "id": "recreational-active",
   "metadata": {},
   "outputs": [
    {
     "name": "stdout",
     "output_type": "stream",
     "text": [
      "r2 Score:   0.6956465146547524\n",
      "Adj. r2 Score:    0.6949755880714411\n",
      "MSE Score:  44169055689.44129\n",
      "RMSE Score: 210164.353993348\n",
      "Comment: First log, minmaxscaler for date, standardscaler for all numericals, drop id\n",
      "Test size: 40 %\n"
     ]
    }
   ],
   "source": [
    "apply_linear_regression(X,y,.4,\"First log, minmaxscaler for date, standardscaler for all numericals, drop id\")"
   ]
  },
  {
   "cell_type": "markdown",
   "id": "suburban-person",
   "metadata": {},
   "source": [
    "* For the first transformation we saw that sqft_living = sqft_above + sqft_below, in every case. We proved it this way, by counting the number of rows where this doesn't happen"
   ]
  },
  {
   "cell_type": "code",
   "execution_count": 25,
   "id": "sticky-idaho",
   "metadata": {},
   "outputs": [
    {
     "data": {
      "text/plain": [
       "0"
      ]
     },
     "execution_count": 25,
     "metadata": {},
     "output_type": "execute_result"
    }
   ],
   "source": [
    "sum(data['sqft_living'] != (data['sqft_above']+data['sqft_basement']))"
   ]
  },
  {
   "cell_type": "markdown",
   "id": "arctic-british",
   "metadata": {},
   "source": [
    "We will then make a new row consisting of how much percentage of the living space corresponds to basement space,instead of having both living and above space in the dataset:"
   ]
  },
  {
   "cell_type": "code",
   "execution_count": 26,
   "id": "consistent-christmas",
   "metadata": {},
   "outputs": [],
   "source": [
    "datawr['percent_basement'] = datawr['sqft_basement'] / datawr['sqft_living']\n",
    "#and we drop the original columns\n",
    "datawr.drop(['sqft_basement','sqft_above'], axis = 1, inplace = True)"
   ]
  },
  {
   "cell_type": "markdown",
   "id": "operating-marriage",
   "metadata": {},
   "source": [
    "We can see in the new correlation matrix that we broke that multicollinearity, but we still kept the information about basement sizes"
   ]
  },
  {
   "cell_type": "code",
   "execution_count": 27,
   "id": "excess-brighton",
   "metadata": {},
   "outputs": [
    {
     "data": {
      "image/png": "[encoded data removed]",
      "text/plain": [
       "<Figure size 1080x1080 with 2 Axes>"
      ]
     },
     "metadata": {
      "needs_background": "light"
     },
     "output_type": "display_data"
    }
   ],
   "source": [
    "corr_matr_show(datawr)"
   ]
  },
  {
   "cell_type": "code",
   "execution_count": 28,
   "id": "adjacent-survey",
   "metadata": {},
   "outputs": [],
   "source": [
    "#We pass the scaler again to our numerical values in order to apply the model again \n",
    "X_stand = stscaler_apply(datawr)\n",
    "\n",
    "X = pd.concat((dates,X_stand), axis = 1)\n",
    "y = data['price']"
   ]
  },
  {
   "cell_type": "markdown",
   "id": "defined-effectiveness",
   "metadata": {},
   "source": [
    "**2nd run** "
   ]
  },
  {
   "cell_type": "code",
   "execution_count": 29,
   "id": "applied-liver",
   "metadata": {},
   "outputs": [
    {
     "name": "stdout",
     "output_type": "stream",
     "text": [
      "r2 Score:   0.6985570901524953\n",
      "Adj. r2 Score:    0.6979276269996815\n",
      "MSE Score:  43746660752.50702\n",
      "RMSE Score: 209157.02415292445\n",
      "Comment: Removed multicollinearity sqft_above with sqft_living, created %basement\n",
      "Test size: 40 %\n"
     ]
    }
   ],
   "source": [
    "apply_linear_regression(X,y,.4,\"Removed multicollinearity sqft_above with sqft_living, created %basement\")"
   ]
  },
  {
   "cell_type": "markdown",
   "id": "ethical-clearance",
   "metadata": {},
   "source": [
    "We can see an improvement in both scores, r2 is slightly better, but the mse score has dropped slightly \n",
    "\n",
    "* We can change the last refurbished year to years since last renovation, to make it more measurable. We will assume it is 2016"
   ]
  },
  {
   "cell_type": "code",
   "execution_count": 30,
   "id": "copyrighted-secretariat",
   "metadata": {},
   "outputs": [],
   "source": [
    "datawr['yr_since_last_ren'] = [2016-x if x!=0 else 2016-data.loc[i,'yr_built'] for i,x in enumerate(data['yr_renovated'])]"
   ]
  },
  {
   "cell_type": "markdown",
   "id": "instrumental-logging",
   "metadata": {},
   "source": [
    "And we can also drop the orignal columns, keeping the information"
   ]
  },
  {
   "cell_type": "code",
   "execution_count": 31,
   "id": "loved-uzbekistan",
   "metadata": {},
   "outputs": [],
   "source": [
    "datawr.drop(['yr_renovated'],axis =1, inplace = True)"
   ]
  },
  {
   "cell_type": "code",
   "execution_count": 32,
   "id": "intellectual-triumph",
   "metadata": {},
   "outputs": [],
   "source": [
    "X_stand = stscaler_apply(datawr)\n",
    "\n",
    "X = pd.concat((dates,X_stand), axis = 1)\n",
    "y = data['price']"
   ]
  },
  {
   "cell_type": "markdown",
   "id": "polyphonic-cliff",
   "metadata": {},
   "source": [
    "**3rd run** "
   ]
  },
  {
   "cell_type": "code",
   "execution_count": 33,
   "id": "adapted-sister",
   "metadata": {},
   "outputs": [
    {
     "name": "stdout",
     "output_type": "stream",
     "text": [
      "r2 Score:   0.6983693853502171\n",
      "Adj. r2 Score:    0.6977395302384194\n",
      "MSE Score:  43773901261.5342\n",
      "RMSE Score: 209222.13377540675\n",
      "Comment: Added yr_since_last_ren, that measures how new the house is, and dropped original columns\n",
      "Test size: 40 %\n"
     ]
    }
   ],
   "source": [
    "apply_linear_regression(X,y,.4,\"Added yr_since_last_ren, that measures how new the house is, and dropped original columns\")"
   ]
  },
  {
   "cell_type": "markdown",
   "id": "round-easter",
   "metadata": {},
   "source": [
    "We can turn the year built, also in a more scalable measure by substracting it to the current year:"
   ]
  },
  {
   "cell_type": "code",
   "execution_count": 34,
   "id": "aerial-trash",
   "metadata": {},
   "outputs": [],
   "source": [
    "datawr['yr_since_built'] = 2016 - datawr['yr_built']"
   ]
  },
  {
   "cell_type": "markdown",
   "id": "disciplinary-seminar",
   "metadata": {},
   "source": [
    "And drop the original column:"
   ]
  },
  {
   "cell_type": "code",
   "execution_count": 35,
   "id": "decent-consultation",
   "metadata": {},
   "outputs": [],
   "source": [
    "datawr.drop(['yr_built'],axis =1, inplace = True)"
   ]
  },
  {
   "cell_type": "code",
   "execution_count": 36,
   "id": "utility-roberts",
   "metadata": {},
   "outputs": [],
   "source": [
    "X_stand = stscaler_apply(datawr)\n",
    "\n",
    "X = pd.concat((dates,X_stand), axis = 1)\n",
    "y = data['price']"
   ]
  },
  {
   "cell_type": "markdown",
   "id": "constitutional-joshua",
   "metadata": {},
   "source": [
    "**4th run** "
   ]
  },
  {
   "cell_type": "code",
   "execution_count": 37,
   "id": "pleased-effects",
   "metadata": {},
   "outputs": [
    {
     "name": "stdout",
     "output_type": "stream",
     "text": [
      "r2 Score:   0.6983693853502171\n",
      "Adj. r2 Score:    0.6977395302384194\n",
      "MSE Score:  43773901261.5342\n",
      "RMSE Score: 209222.13377540675\n",
      "Comment: Added yr_since_built and dropped the original year\n",
      "Test size: 40 %\n"
     ]
    }
   ],
   "source": [
    "apply_linear_regression(X,y,.4,\"Added yr_since_built and dropped the original year\")"
   ]
  },
  {
   "cell_type": "markdown",
   "id": "joined-property",
   "metadata": {},
   "source": [
    "this created some collinearity and did not improve the result, so we will find another way to input the year built. we will scale the original year column with minmaxscaler instead."
   ]
  },
  {
   "cell_type": "code",
   "execution_count": 38,
   "id": "joined-pleasure",
   "metadata": {},
   "outputs": [],
   "source": [
    "built_year = pd.to_datetime(data['yr_built']) \n",
    "built_year = minmax_apply(built_year)\n"
   ]
  },
  {
   "cell_type": "code",
   "execution_count": 39,
   "id": "abroad-roller",
   "metadata": {},
   "outputs": [],
   "source": [
    "datawr.drop(['yr_since_built'],axis =1, inplace = True)"
   ]
  },
  {
   "cell_type": "code",
   "execution_count": 40,
   "id": "norwegian-astrology",
   "metadata": {},
   "outputs": [],
   "source": [
    "X_stand = stscaler_apply(datawr)\n",
    "\n",
    "X = pd.concat((dates,built_year,X_stand), axis = 1)\n",
    "y = data['price']"
   ]
  },
  {
   "cell_type": "markdown",
   "id": "white-stage",
   "metadata": {},
   "source": [
    "**5th run** "
   ]
  },
  {
   "cell_type": "code",
   "execution_count": 41,
   "id": "quarterly-adapter",
   "metadata": {},
   "outputs": [
    {
     "name": "stdout",
     "output_type": "stream",
     "text": [
      "r2 Score:   0.6983693853502171\n",
      "Adj. r2 Score:    0.6977395302384194\n",
      "MSE Score:  43773901261.53422\n",
      "RMSE Score: 209222.1337754068\n",
      "Comment: used minmaxscaler for built year, dropped yr_since_built\n",
      "Test size: 40 %\n"
     ]
    }
   ],
   "source": [
    "apply_linear_regression(X,y,.4,\"used minmaxscaler for built year, dropped yr_since_built\")"
   ]
  },
  {
   "cell_type": "markdown",
   "id": "czech-butterfly",
   "metadata": {},
   "source": [
    "Not a lot of change here. \n",
    "* Now we will try to remove the sqft_living and sqft_lot, but we will choose the old size for prices of sales done before 2015, and use sqft_living15 and sqft_living15 for those sales done in 2015."
   ]
  },
  {
   "cell_type": "code",
   "execution_count": 42,
   "id": "color-compact",
   "metadata": {},
   "outputs": [],
   "source": [
    "datawr['sqft_living_sale'] = np.where(data['date_sold']>=datetime.datetime(2015,1,1), \n",
    "                                      data['sqft_living15'],data['sqft_living'])\n",
    "\n",
    "datawr['sqft_lot_sale'] = np.where(data['date_sold']>=datetime.datetime(2015,1,1), \n",
    "                                      data['sqft_lot15'],data['sqft_lot'])\n"
   ]
  },
  {
   "cell_type": "markdown",
   "id": "healthy-mobile",
   "metadata": {},
   "source": [
    "And drop the original columns. As we have no information about if the basement sizes were changed, we will leave the percentage we calculated before."
   ]
  },
  {
   "cell_type": "code",
   "execution_count": 43,
   "id": "decent-installation",
   "metadata": {},
   "outputs": [],
   "source": [
    "datawr.drop(['sqft_living','sqft_lot','sqft_living15','sqft_lot15'],axis = 1,inplace = True)"
   ]
  },
  {
   "cell_type": "code",
   "execution_count": 44,
   "id": "japanese-absorption",
   "metadata": {},
   "outputs": [],
   "source": [
    "X_stand = stscaler_apply(datawr)\n",
    "\n",
    "X = pd.concat((dates,built_year,X_stand), axis = 1)\n",
    "y = data['price']"
   ]
  },
  {
   "cell_type": "markdown",
   "id": "forty-preview",
   "metadata": {},
   "source": [
    "**6th run** "
   ]
  },
  {
   "cell_type": "code",
   "execution_count": 45,
   "id": "quiet-partition",
   "metadata": {
    "scrolled": true
   },
   "outputs": [
    {
     "name": "stdout",
     "output_type": "stream",
     "text": [
      "r2 Score:   0.6827175591337735\n",
      "Adj. r2 Score:    0.6821287724191064\n",
      "MSE Score:  46045359999.755455\n",
      "RMSE Score: 214581.8258841029\n",
      "Comment: selected the sqft columns depending on sale year\n",
      "Test size: 40 %\n"
     ]
    }
   ],
   "source": [
    "apply_linear_regression(X,y,.4,\"selected the sqft columns depending on sale year\")"
   ]
  },
  {
   "cell_type": "code",
   "execution_count": null,
   "id": "shared-royalty",
   "metadata": {},
   "outputs": [],
   "source": []
  },
  {
   "cell_type": "code",
   "execution_count": null,
   "id": "viral-skirt",
   "metadata": {},
   "outputs": [],
   "source": []
  },
  {
   "cell_type": "code",
   "execution_count": null,
   "id": "threatened-motivation",
   "metadata": {},
   "outputs": [],
   "source": []
  },
  {
   "cell_type": "code",
   "execution_count": null,
   "id": "wooden-rolling",
   "metadata": {},
   "outputs": [],
   "source": []
  },
  {
   "cell_type": "code",
   "execution_count": null,
   "id": "solved-marks",
   "metadata": {},
   "outputs": [],
   "source": []
  },
  {
   "cell_type": "markdown",
   "id": "serial-motion",
   "metadata": {},
   "source": [
    "* We try now to drop latitude and longitude, and turn the zip codes into state codes. for that we need to import a zipcode database, and join it to our original data. We can also use this data for our tableau visualization later.  "
   ]
  },
  {
   "cell_type": "code",
   "execution_count": 46,
   "id": "maritime-country",
   "metadata": {},
   "outputs": [],
   "source": [
    "zipc = pd.read_csv('zip_code_database.csv')"
   ]
  },
  {
   "cell_type": "code",
   "execution_count": 47,
   "id": "documentary-charger",
   "metadata": {},
   "outputs": [],
   "source": [
    "zipc = zipc[['zip','state','primary_city','irs_estimated_population_2015']]\n",
    "zipc.rename(columns= {'zip':'zipcode'},inplace = True)"
   ]
  },
  {
   "cell_type": "code",
   "execution_count": 48,
   "id": "recent-stock",
   "metadata": {},
   "outputs": [],
   "source": [
    "datawr = pd.merge(datawr, zipc, on='zipcode',how='left')"
   ]
  },
  {
   "cell_type": "code",
   "execution_count": 49,
   "id": "satisfactory-shell",
   "metadata": {},
   "outputs": [
    {
     "data": {
      "text/plain": [
       "WA    21597\n",
       "Name: state, dtype: int64"
      ]
     },
     "execution_count": 49,
     "metadata": {},
     "output_type": "execute_result"
    }
   ],
   "source": [
    "datawr['state'].value_counts()"
   ]
  },
  {
   "cell_type": "code",
   "execution_count": 50,
   "id": "differential-heater",
   "metadata": {},
   "outputs": [
    {
     "data": {
      "text/plain": [
       "Seattle          8973\n",
       "Renton           1597\n",
       "Bellevue         1407\n",
       "Kent             1201\n",
       "Kirkland          977\n",
       "Redmond           977\n",
       "Auburn            911\n",
       "Sammamish         800\n",
       "Federal Way       779\n",
       "Issaquah          733\n",
       "Maple Valley      589\n",
       "Woodinville       471\n",
       "Snoqualmie        308\n",
       "Kenmore           283\n",
       "Mercer Island     282\n",
       "Enumclaw          233\n",
       "North Bend        220\n",
       "Bothell           195\n",
       "Duvall            190\n",
       "Carnation         124\n",
       "Vashon            117\n",
       "Black Diamond     100\n",
       "Fall City          80\n",
       "Medina             50\n",
       "Name: primary_city, dtype: int64"
      ]
     },
     "execution_count": 50,
     "metadata": {},
     "output_type": "execute_result"
    }
   ],
   "source": [
    "datawr['primary_city'].value_counts()"
   ]
  },
  {
   "cell_type": "markdown",
   "id": "revised-borough",
   "metadata": {},
   "source": [
    "All sales data correspond to Washington state, so we will drop the state column, as well as latitude, logitude, and the zip codes, and we will start encoding categorical data, starting by the city."
   ]
  },
  {
   "cell_type": "markdown",
   "id": "overhead-thriller",
   "metadata": {},
   "source": [
    "* Creating Categorical data:"
   ]
  },
  {
   "cell_type": "code",
   "execution_count": 51,
   "id": "fleet-investing",
   "metadata": {},
   "outputs": [],
   "source": [
    "datawr.drop(['zipcode','state','latitude','longitude','zipcode'], axis =1,inplace = True)"
   ]
  },
  {
   "cell_type": "code",
   "execution_count": 52,
   "id": "inappropriate-welsh",
   "metadata": {},
   "outputs": [
    {
     "data": {
      "text/plain": [
       "bedrooms                           int64\n",
       "bathrooms                        float64\n",
       "floors                           float64\n",
       "waterfront                         int64\n",
       "view                               int64\n",
       "cond                               int64\n",
       "grade                              int64\n",
       "percent_basement                 float64\n",
       "yr_since_last_ren                  int64\n",
       "sqft_living_sale                   int64\n",
       "sqft_lot_sale                      int64\n",
       "primary_city                      object\n",
       "irs_estimated_population_2015      int64\n",
       "dtype: object"
      ]
     },
     "execution_count": 52,
     "metadata": {},
     "output_type": "execute_result"
    }
   ],
   "source": [
    "datawr.dtypes"
   ]
  },
  {
   "cell_type": "markdown",
   "id": "synthetic-professional",
   "metadata": {},
   "source": [
    "We will quickly use get_dummies for the primary city column, and evaluate the change in our model."
   ]
  },
  {
   "cell_type": "code",
   "execution_count": 53,
   "id": "whole-playlist",
   "metadata": {},
   "outputs": [],
   "source": [
    "datawr_cat = pd.get_dummies(datawr['primary_city'])\n",
    "datawr_num = datawr.select_dtypes('number')"
   ]
  },
  {
   "cell_type": "code",
   "execution_count": 54,
   "id": "sensitive-upgrade",
   "metadata": {},
   "outputs": [],
   "source": [
    "X_stand = stscaler_apply(datawr_num)\n",
    "\n",
    "X = pd.concat((dates,built_year,X_stand,datawr_cat), axis = 1)\n",
    "y = data['price']"
   ]
  },
  {
   "cell_type": "markdown",
   "id": "enhanced-blackjack",
   "metadata": {},
   "source": [
    "**7th run** "
   ]
  },
  {
   "cell_type": "code",
   "execution_count": 55,
   "id": "opening-petroleum",
   "metadata": {
    "scrolled": true
   },
   "outputs": [
    {
     "name": "stdout",
     "output_type": "stream",
     "text": [
      "r2 Score:   0.712600672646605\n",
      "Adj. r2 Score:    0.7113307686420203\n",
      "MSE Score:  41708597095.84164\n",
      "RMSE Score: 204226.8275615171\n",
      "Comment: added city categorical data and population, dropped location columns\n",
      "Test size: 40 %\n"
     ]
    }
   ],
   "source": [
    "apply_linear_regression(X,y,.4,\"added city categorical data and population, dropped location columns\")"
   ]
  },
  {
   "cell_type": "markdown",
   "id": "objective-spread",
   "metadata": {},
   "source": [
    "this time we managed to increase R2 in 3%, reducing the median square error, let's turn more rows into categoricals, starting by the waterfront column, together with the number of floors. "
   ]
  },
  {
   "cell_type": "code",
   "execution_count": 56,
   "id": "earned-edmonton",
   "metadata": {},
   "outputs": [],
   "source": [
    "datawr_cat = datawr[['primary_city', 'waterfront','floors']]\n",
    "datawr_num = datawr.drop(['primary_city', 'waterfront','floors','irs_estimated_population_2015'], axis = 1)"
   ]
  },
  {
   "cell_type": "code",
   "execution_count": 57,
   "id": "loose-vintage",
   "metadata": {},
   "outputs": [],
   "source": [
    "datawr_cat =onehot_apply(datawr_cat)"
   ]
  },
  {
   "cell_type": "code",
   "execution_count": 58,
   "id": "atmospheric-plain",
   "metadata": {},
   "outputs": [],
   "source": [
    "X_stand = stscaler_apply(datawr_num)\n",
    "\n",
    "X = pd.concat((dates,built_year,X_stand,datawr_cat), axis = 1)\n",
    "y = data['price']"
   ]
  },
  {
   "cell_type": "markdown",
   "id": "practical-sleeve",
   "metadata": {},
   "source": [
    "**8th run** "
   ]
  },
  {
   "cell_type": "code",
   "execution_count": 59,
   "id": "solved-season",
   "metadata": {
    "scrolled": true
   },
   "outputs": [
    {
     "name": "stdout",
     "output_type": "stream",
     "text": [
      "r2 Score:   0.7144278306802003\n",
      "Adj. r2 Score:    0.7129991391990192\n",
      "MSE Score:  41443432250.274864\n",
      "RMSE Score: 203576.60044876195\n",
      "Comment: turned city, waterfront and floors into categorical data\n",
      "Test size: 40 %\n"
     ]
    }
   ],
   "source": [
    "apply_linear_regression(X,y,.4,\"turned city, waterfront and floors into categorical data\")"
   ]
  },
  {
   "cell_type": "code",
   "execution_count": null,
   "id": "brief-craft",
   "metadata": {},
   "outputs": [],
   "source": []
  },
  {
   "cell_type": "code",
   "execution_count": 60,
   "id": "fossil-property",
   "metadata": {},
   "outputs": [
    {
     "data": {
      "text/html": [
       "<div>\n",
       "<style scoped>\n",
       "    .dataframe tbody tr th:only-of-type {\n",
       "        vertical-align: middle;\n",
       "    }\n",
       "\n",
       "    .dataframe tbody tr th {\n",
       "        vertical-align: top;\n",
       "    }\n",
       "\n",
       "    .dataframe thead th {\n",
       "        text-align: right;\n",
       "    }\n",
       "</style>\n",
       "<table border=\"1\" class=\"dataframe\">\n",
       "  <thead>\n",
       "    <tr style=\"text-align: right;\">\n",
       "      <th></th>\n",
       "      <th>bedrooms</th>\n",
       "      <th>bathrooms</th>\n",
       "      <th>view</th>\n",
       "      <th>cond</th>\n",
       "      <th>grade</th>\n",
       "      <th>percent_basement</th>\n",
       "      <th>yr_since_last_ren</th>\n",
       "      <th>sqft_living_sale</th>\n",
       "      <th>sqft_lot_sale</th>\n",
       "    </tr>\n",
       "  </thead>\n",
       "  <tbody>\n",
       "    <tr>\n",
       "      <th>0</th>\n",
       "      <td>3</td>\n",
       "      <td>1.00</td>\n",
       "      <td>0</td>\n",
       "      <td>3</td>\n",
       "      <td>7</td>\n",
       "      <td>0.000000</td>\n",
       "      <td>61</td>\n",
       "      <td>1180</td>\n",
       "      <td>5650</td>\n",
       "    </tr>\n",
       "    <tr>\n",
       "      <th>1</th>\n",
       "      <td>3</td>\n",
       "      <td>2.25</td>\n",
       "      <td>0</td>\n",
       "      <td>3</td>\n",
       "      <td>7</td>\n",
       "      <td>0.155642</td>\n",
       "      <td>25</td>\n",
       "      <td>2570</td>\n",
       "      <td>7242</td>\n",
       "    </tr>\n",
       "    <tr>\n",
       "      <th>2</th>\n",
       "      <td>2</td>\n",
       "      <td>1.00</td>\n",
       "      <td>0</td>\n",
       "      <td>3</td>\n",
       "      <td>6</td>\n",
       "      <td>0.000000</td>\n",
       "      <td>83</td>\n",
       "      <td>2720</td>\n",
       "      <td>8062</td>\n",
       "    </tr>\n",
       "    <tr>\n",
       "      <th>3</th>\n",
       "      <td>4</td>\n",
       "      <td>3.00</td>\n",
       "      <td>0</td>\n",
       "      <td>5</td>\n",
       "      <td>7</td>\n",
       "      <td>0.464286</td>\n",
       "      <td>51</td>\n",
       "      <td>1960</td>\n",
       "      <td>5000</td>\n",
       "    </tr>\n",
       "    <tr>\n",
       "      <th>4</th>\n",
       "      <td>3</td>\n",
       "      <td>2.00</td>\n",
       "      <td>0</td>\n",
       "      <td>3</td>\n",
       "      <td>8</td>\n",
       "      <td>0.000000</td>\n",
       "      <td>29</td>\n",
       "      <td>1800</td>\n",
       "      <td>7503</td>\n",
       "    </tr>\n",
       "    <tr>\n",
       "      <th>...</th>\n",
       "      <td>...</td>\n",
       "      <td>...</td>\n",
       "      <td>...</td>\n",
       "      <td>...</td>\n",
       "      <td>...</td>\n",
       "      <td>...</td>\n",
       "      <td>...</td>\n",
       "      <td>...</td>\n",
       "      <td>...</td>\n",
       "    </tr>\n",
       "    <tr>\n",
       "      <th>21592</th>\n",
       "      <td>3</td>\n",
       "      <td>2.50</td>\n",
       "      <td>0</td>\n",
       "      <td>3</td>\n",
       "      <td>8</td>\n",
       "      <td>0.000000</td>\n",
       "      <td>7</td>\n",
       "      <td>1530</td>\n",
       "      <td>1131</td>\n",
       "    </tr>\n",
       "    <tr>\n",
       "      <th>21593</th>\n",
       "      <td>4</td>\n",
       "      <td>2.50</td>\n",
       "      <td>0</td>\n",
       "      <td>3</td>\n",
       "      <td>8</td>\n",
       "      <td>0.000000</td>\n",
       "      <td>2</td>\n",
       "      <td>1830</td>\n",
       "      <td>7200</td>\n",
       "    </tr>\n",
       "    <tr>\n",
       "      <th>21594</th>\n",
       "      <td>2</td>\n",
       "      <td>0.75</td>\n",
       "      <td>0</td>\n",
       "      <td>3</td>\n",
       "      <td>7</td>\n",
       "      <td>0.000000</td>\n",
       "      <td>7</td>\n",
       "      <td>1020</td>\n",
       "      <td>1350</td>\n",
       "    </tr>\n",
       "    <tr>\n",
       "      <th>21595</th>\n",
       "      <td>3</td>\n",
       "      <td>2.50</td>\n",
       "      <td>0</td>\n",
       "      <td>3</td>\n",
       "      <td>8</td>\n",
       "      <td>0.000000</td>\n",
       "      <td>12</td>\n",
       "      <td>1410</td>\n",
       "      <td>1287</td>\n",
       "    </tr>\n",
       "    <tr>\n",
       "      <th>21596</th>\n",
       "      <td>2</td>\n",
       "      <td>0.75</td>\n",
       "      <td>0</td>\n",
       "      <td>3</td>\n",
       "      <td>7</td>\n",
       "      <td>0.000000</td>\n",
       "      <td>8</td>\n",
       "      <td>1020</td>\n",
       "      <td>1076</td>\n",
       "    </tr>\n",
       "  </tbody>\n",
       "</table>\n",
       "<p>21597 rows × 9 columns</p>\n",
       "</div>"
      ],
      "text/plain": [
       "       bedrooms  bathrooms  view  cond  grade  percent_basement  \\\n",
       "0             3       1.00     0     3      7          0.000000   \n",
       "1             3       2.25     0     3      7          0.155642   \n",
       "2             2       1.00     0     3      6          0.000000   \n",
       "3             4       3.00     0     5      7          0.464286   \n",
       "4             3       2.00     0     3      8          0.000000   \n",
       "...         ...        ...   ...   ...    ...               ...   \n",
       "21592         3       2.50     0     3      8          0.000000   \n",
       "21593         4       2.50     0     3      8          0.000000   \n",
       "21594         2       0.75     0     3      7          0.000000   \n",
       "21595         3       2.50     0     3      8          0.000000   \n",
       "21596         2       0.75     0     3      7          0.000000   \n",
       "\n",
       "       yr_since_last_ren  sqft_living_sale  sqft_lot_sale  \n",
       "0                     61              1180           5650  \n",
       "1                     25              2570           7242  \n",
       "2                     83              2720           8062  \n",
       "3                     51              1960           5000  \n",
       "4                     29              1800           7503  \n",
       "...                  ...               ...            ...  \n",
       "21592                  7              1530           1131  \n",
       "21593                  2              1830           7200  \n",
       "21594                  7              1020           1350  \n",
       "21595                 12              1410           1287  \n",
       "21596                  8              1020           1076  \n",
       "\n",
       "[21597 rows x 9 columns]"
      ]
     },
     "execution_count": 60,
     "metadata": {},
     "output_type": "execute_result"
    }
   ],
   "source": [
    "datawr_num"
   ]
  },
  {
   "cell_type": "code",
   "execution_count": 61,
   "id": "controlled-dragon",
   "metadata": {},
   "outputs": [
    {
     "data": {
      "text/plain": [
       "(21597, 9)"
      ]
     },
     "execution_count": 61,
     "metadata": {},
     "output_type": "execute_result"
    }
   ],
   "source": [
    "datawr_num.shape"
   ]
  },
  {
   "cell_type": "code",
   "execution_count": null,
   "id": "superb-cutting",
   "metadata": {},
   "outputs": [],
   "source": []
  },
  {
   "cell_type": "code",
   "execution_count": null,
   "id": "accurate-framing",
   "metadata": {},
   "outputs": [],
   "source": []
  },
  {
   "cell_type": "code",
   "execution_count": null,
   "id": "indoor-algeria",
   "metadata": {},
   "outputs": [],
   "source": []
  },
  {
   "cell_type": "code",
   "execution_count": null,
   "id": "educational-wilderness",
   "metadata": {},
   "outputs": [],
   "source": []
  },
  {
   "cell_type": "code",
   "execution_count": null,
   "id": "lovely-floating",
   "metadata": {},
   "outputs": [],
   "source": []
  },
  {
   "cell_type": "code",
   "execution_count": null,
   "id": "instrumental-class",
   "metadata": {},
   "outputs": [],
   "source": []
  },
  {
   "cell_type": "code",
   "execution_count": 62,
   "id": "modular-sweden",
   "metadata": {},
   "outputs": [
    {
     "data": {
      "text/html": [
       "<div>\n",
       "<style scoped>\n",
       "    .dataframe tbody tr th:only-of-type {\n",
       "        vertical-align: middle;\n",
       "    }\n",
       "\n",
       "    .dataframe tbody tr th {\n",
       "        vertical-align: top;\n",
       "    }\n",
       "\n",
       "    .dataframe thead th {\n",
       "        text-align: right;\n",
       "    }\n",
       "</style>\n",
       "<table border=\"1\" class=\"dataframe\">\n",
       "  <thead>\n",
       "    <tr style=\"text-align: right;\">\n",
       "      <th></th>\n",
       "      <th>bedrooms</th>\n",
       "      <th>bathrooms</th>\n",
       "      <th>floors</th>\n",
       "      <th>waterfront</th>\n",
       "      <th>view</th>\n",
       "      <th>cond</th>\n",
       "      <th>grade</th>\n",
       "      <th>percent_basement</th>\n",
       "      <th>yr_since_last_ren</th>\n",
       "      <th>sqft_living_sale</th>\n",
       "      <th>sqft_lot_sale</th>\n",
       "      <th>primary_city</th>\n",
       "      <th>irs_estimated_population_2015</th>\n",
       "    </tr>\n",
       "  </thead>\n",
       "  <tbody>\n",
       "    <tr>\n",
       "      <th>0</th>\n",
       "      <td>3</td>\n",
       "      <td>1.00</td>\n",
       "      <td>1.0</td>\n",
       "      <td>0</td>\n",
       "      <td>0</td>\n",
       "      <td>3</td>\n",
       "      <td>7</td>\n",
       "      <td>0.000000</td>\n",
       "      <td>61</td>\n",
       "      <td>1180</td>\n",
       "      <td>5650</td>\n",
       "      <td>Seattle</td>\n",
       "      <td>23750</td>\n",
       "    </tr>\n",
       "    <tr>\n",
       "      <th>1</th>\n",
       "      <td>3</td>\n",
       "      <td>2.25</td>\n",
       "      <td>2.0</td>\n",
       "      <td>0</td>\n",
       "      <td>0</td>\n",
       "      <td>3</td>\n",
       "      <td>7</td>\n",
       "      <td>0.155642</td>\n",
       "      <td>25</td>\n",
       "      <td>2570</td>\n",
       "      <td>7242</td>\n",
       "      <td>Seattle</td>\n",
       "      <td>35640</td>\n",
       "    </tr>\n",
       "    <tr>\n",
       "      <th>2</th>\n",
       "      <td>2</td>\n",
       "      <td>1.00</td>\n",
       "      <td>1.0</td>\n",
       "      <td>0</td>\n",
       "      <td>0</td>\n",
       "      <td>3</td>\n",
       "      <td>6</td>\n",
       "      <td>0.000000</td>\n",
       "      <td>83</td>\n",
       "      <td>2720</td>\n",
       "      <td>8062</td>\n",
       "      <td>Kenmore</td>\n",
       "      <td>21650</td>\n",
       "    </tr>\n",
       "    <tr>\n",
       "      <th>3</th>\n",
       "      <td>4</td>\n",
       "      <td>3.00</td>\n",
       "      <td>1.0</td>\n",
       "      <td>0</td>\n",
       "      <td>0</td>\n",
       "      <td>5</td>\n",
       "      <td>7</td>\n",
       "      <td>0.464286</td>\n",
       "      <td>51</td>\n",
       "      <td>1960</td>\n",
       "      <td>5000</td>\n",
       "      <td>Seattle</td>\n",
       "      <td>14980</td>\n",
       "    </tr>\n",
       "    <tr>\n",
       "      <th>4</th>\n",
       "      <td>3</td>\n",
       "      <td>2.00</td>\n",
       "      <td>1.0</td>\n",
       "      <td>0</td>\n",
       "      <td>0</td>\n",
       "      <td>3</td>\n",
       "      <td>8</td>\n",
       "      <td>0.000000</td>\n",
       "      <td>29</td>\n",
       "      <td>1800</td>\n",
       "      <td>7503</td>\n",
       "      <td>Sammamish</td>\n",
       "      <td>28270</td>\n",
       "    </tr>\n",
       "    <tr>\n",
       "      <th>...</th>\n",
       "      <td>...</td>\n",
       "      <td>...</td>\n",
       "      <td>...</td>\n",
       "      <td>...</td>\n",
       "      <td>...</td>\n",
       "      <td>...</td>\n",
       "      <td>...</td>\n",
       "      <td>...</td>\n",
       "      <td>...</td>\n",
       "      <td>...</td>\n",
       "      <td>...</td>\n",
       "      <td>...</td>\n",
       "      <td>...</td>\n",
       "    </tr>\n",
       "    <tr>\n",
       "      <th>21592</th>\n",
       "      <td>3</td>\n",
       "      <td>2.50</td>\n",
       "      <td>3.0</td>\n",
       "      <td>0</td>\n",
       "      <td>0</td>\n",
       "      <td>3</td>\n",
       "      <td>8</td>\n",
       "      <td>0.000000</td>\n",
       "      <td>7</td>\n",
       "      <td>1530</td>\n",
       "      <td>1131</td>\n",
       "      <td>Seattle</td>\n",
       "      <td>44790</td>\n",
       "    </tr>\n",
       "    <tr>\n",
       "      <th>21593</th>\n",
       "      <td>4</td>\n",
       "      <td>2.50</td>\n",
       "      <td>2.0</td>\n",
       "      <td>0</td>\n",
       "      <td>0</td>\n",
       "      <td>3</td>\n",
       "      <td>8</td>\n",
       "      <td>0.000000</td>\n",
       "      <td>2</td>\n",
       "      <td>1830</td>\n",
       "      <td>7200</td>\n",
       "      <td>Seattle</td>\n",
       "      <td>26750</td>\n",
       "    </tr>\n",
       "    <tr>\n",
       "      <th>21594</th>\n",
       "      <td>2</td>\n",
       "      <td>0.75</td>\n",
       "      <td>2.0</td>\n",
       "      <td>0</td>\n",
       "      <td>0</td>\n",
       "      <td>3</td>\n",
       "      <td>7</td>\n",
       "      <td>0.000000</td>\n",
       "      <td>7</td>\n",
       "      <td>1020</td>\n",
       "      <td>1350</td>\n",
       "      <td>Seattle</td>\n",
       "      <td>26310</td>\n",
       "    </tr>\n",
       "    <tr>\n",
       "      <th>21595</th>\n",
       "      <td>3</td>\n",
       "      <td>2.50</td>\n",
       "      <td>2.0</td>\n",
       "      <td>0</td>\n",
       "      <td>0</td>\n",
       "      <td>3</td>\n",
       "      <td>8</td>\n",
       "      <td>0.000000</td>\n",
       "      <td>12</td>\n",
       "      <td>1410</td>\n",
       "      <td>1287</td>\n",
       "      <td>Issaquah</td>\n",
       "      <td>26770</td>\n",
       "    </tr>\n",
       "    <tr>\n",
       "      <th>21596</th>\n",
       "      <td>2</td>\n",
       "      <td>0.75</td>\n",
       "      <td>2.0</td>\n",
       "      <td>0</td>\n",
       "      <td>0</td>\n",
       "      <td>3</td>\n",
       "      <td>7</td>\n",
       "      <td>0.000000</td>\n",
       "      <td>8</td>\n",
       "      <td>1020</td>\n",
       "      <td>1076</td>\n",
       "      <td>Seattle</td>\n",
       "      <td>26310</td>\n",
       "    </tr>\n",
       "  </tbody>\n",
       "</table>\n",
       "<p>21597 rows × 13 columns</p>\n",
       "</div>"
      ],
      "text/plain": [
       "       bedrooms  bathrooms  floors  waterfront  view  cond  grade  \\\n",
       "0             3       1.00     1.0           0     0     3      7   \n",
       "1             3       2.25     2.0           0     0     3      7   \n",
       "2             2       1.00     1.0           0     0     3      6   \n",
       "3             4       3.00     1.0           0     0     5      7   \n",
       "4             3       2.00     1.0           0     0     3      8   \n",
       "...         ...        ...     ...         ...   ...   ...    ...   \n",
       "21592         3       2.50     3.0           0     0     3      8   \n",
       "21593         4       2.50     2.0           0     0     3      8   \n",
       "21594         2       0.75     2.0           0     0     3      7   \n",
       "21595         3       2.50     2.0           0     0     3      8   \n",
       "21596         2       0.75     2.0           0     0     3      7   \n",
       "\n",
       "       percent_basement  yr_since_last_ren  sqft_living_sale  sqft_lot_sale  \\\n",
       "0              0.000000                 61              1180           5650   \n",
       "1              0.155642                 25              2570           7242   \n",
       "2              0.000000                 83              2720           8062   \n",
       "3              0.464286                 51              1960           5000   \n",
       "4              0.000000                 29              1800           7503   \n",
       "...                 ...                ...               ...            ...   \n",
       "21592          0.000000                  7              1530           1131   \n",
       "21593          0.000000                  2              1830           7200   \n",
       "21594          0.000000                  7              1020           1350   \n",
       "21595          0.000000                 12              1410           1287   \n",
       "21596          0.000000                  8              1020           1076   \n",
       "\n",
       "      primary_city  irs_estimated_population_2015  \n",
       "0          Seattle                          23750  \n",
       "1          Seattle                          35640  \n",
       "2          Kenmore                          21650  \n",
       "3          Seattle                          14980  \n",
       "4        Sammamish                          28270  \n",
       "...            ...                            ...  \n",
       "21592      Seattle                          44790  \n",
       "21593      Seattle                          26750  \n",
       "21594      Seattle                          26310  \n",
       "21595     Issaquah                          26770  \n",
       "21596      Seattle                          26310  \n",
       "\n",
       "[21597 rows x 13 columns]"
      ]
     },
     "execution_count": 62,
     "metadata": {},
     "output_type": "execute_result"
    }
   ],
   "source": [
    "datawr"
   ]
  },
  {
   "cell_type": "code",
   "execution_count": null,
   "id": "lucky-tracker",
   "metadata": {},
   "outputs": [],
   "source": []
  },
  {
   "cell_type": "code",
   "execution_count": 63,
   "id": "irish-circulation",
   "metadata": {},
   "outputs": [
    {
     "data": {
      "text/html": [
       "<div>\n",
       "<style scoped>\n",
       "    .dataframe tbody tr th:only-of-type {\n",
       "        vertical-align: middle;\n",
       "    }\n",
       "\n",
       "    .dataframe tbody tr th {\n",
       "        vertical-align: top;\n",
       "    }\n",
       "\n",
       "    .dataframe thead th {\n",
       "        text-align: right;\n",
       "    }\n",
       "</style>\n",
       "<table border=\"1\" class=\"dataframe\">\n",
       "  <thead>\n",
       "    <tr style=\"text-align: right;\">\n",
       "      <th></th>\n",
       "      <th>r2</th>\n",
       "      <th>adj_r2</th>\n",
       "      <th>mse</th>\n",
       "      <th>rmse</th>\n",
       "      <th>test_size</th>\n",
       "      <th>comment</th>\n",
       "    </tr>\n",
       "  </thead>\n",
       "  <tbody>\n",
       "    <tr>\n",
       "      <th>1</th>\n",
       "      <td>0.695647</td>\n",
       "      <td>0.694976</td>\n",
       "      <td>4.416906e+10</td>\n",
       "      <td>210164.353993</td>\n",
       "      <td>0.4</td>\n",
       "      <td>First log, minmaxscaler for date, standardscal...</td>\n",
       "    </tr>\n",
       "    <tr>\n",
       "      <th>2</th>\n",
       "      <td>0.698557</td>\n",
       "      <td>0.697928</td>\n",
       "      <td>4.374666e+10</td>\n",
       "      <td>209157.024153</td>\n",
       "      <td>0.4</td>\n",
       "      <td>Removed multicollinearity sqft_above with sqft...</td>\n",
       "    </tr>\n",
       "    <tr>\n",
       "      <th>3</th>\n",
       "      <td>0.698369</td>\n",
       "      <td>0.697740</td>\n",
       "      <td>4.377390e+10</td>\n",
       "      <td>209222.133775</td>\n",
       "      <td>0.4</td>\n",
       "      <td>Added yr_since_last_ren, that measures how new...</td>\n",
       "    </tr>\n",
       "    <tr>\n",
       "      <th>4</th>\n",
       "      <td>0.698369</td>\n",
       "      <td>0.697740</td>\n",
       "      <td>4.377390e+10</td>\n",
       "      <td>209222.133775</td>\n",
       "      <td>0.4</td>\n",
       "      <td>Added yr_since_built and dropped the original ...</td>\n",
       "    </tr>\n",
       "    <tr>\n",
       "      <th>5</th>\n",
       "      <td>0.698369</td>\n",
       "      <td>0.697740</td>\n",
       "      <td>4.377390e+10</td>\n",
       "      <td>209222.133775</td>\n",
       "      <td>0.4</td>\n",
       "      <td>used minmaxscaler for built year, dropped yr_s...</td>\n",
       "    </tr>\n",
       "    <tr>\n",
       "      <th>6</th>\n",
       "      <td>0.682718</td>\n",
       "      <td>0.682129</td>\n",
       "      <td>4.604536e+10</td>\n",
       "      <td>214581.825884</td>\n",
       "      <td>0.4</td>\n",
       "      <td>selected the sqft columns depending on sale year</td>\n",
       "    </tr>\n",
       "    <tr>\n",
       "      <th>7</th>\n",
       "      <td>0.712601</td>\n",
       "      <td>0.711331</td>\n",
       "      <td>4.170860e+10</td>\n",
       "      <td>204226.827562</td>\n",
       "      <td>0.4</td>\n",
       "      <td>added city categorical data and population, dr...</td>\n",
       "    </tr>\n",
       "    <tr>\n",
       "      <th>8</th>\n",
       "      <td>0.714428</td>\n",
       "      <td>0.712999</td>\n",
       "      <td>4.144343e+10</td>\n",
       "      <td>203576.600449</td>\n",
       "      <td>0.4</td>\n",
       "      <td>turned city, waterfront and floors into catego...</td>\n",
       "    </tr>\n",
       "  </tbody>\n",
       "</table>\n",
       "</div>"
      ],
      "text/plain": [
       "         r2    adj_r2           mse           rmse  test_size  \\\n",
       "1  0.695647  0.694976  4.416906e+10  210164.353993        0.4   \n",
       "2  0.698557  0.697928  4.374666e+10  209157.024153        0.4   \n",
       "3  0.698369  0.697740  4.377390e+10  209222.133775        0.4   \n",
       "4  0.698369  0.697740  4.377390e+10  209222.133775        0.4   \n",
       "5  0.698369  0.697740  4.377390e+10  209222.133775        0.4   \n",
       "6  0.682718  0.682129  4.604536e+10  214581.825884        0.4   \n",
       "7  0.712601  0.711331  4.170860e+10  204226.827562        0.4   \n",
       "8  0.714428  0.712999  4.144343e+10  203576.600449        0.4   \n",
       "\n",
       "                                             comment  \n",
       "1  First log, minmaxscaler for date, standardscal...  \n",
       "2  Removed multicollinearity sqft_above with sqft...  \n",
       "3  Added yr_since_last_ren, that measures how new...  \n",
       "4  Added yr_since_built and dropped the original ...  \n",
       "5  used minmaxscaler for built year, dropped yr_s...  \n",
       "6   selected the sqft columns depending on sale year  \n",
       "7  added city categorical data and population, dr...  \n",
       "8  turned city, waterfront and floors into catego...  "
      ]
     },
     "execution_count": 63,
     "metadata": {},
     "output_type": "execute_result"
    }
   ],
   "source": [
    "reg_log"
   ]
  },
  {
   "cell_type": "code",
   "execution_count": 64,
   "id": "convenient-enemy",
   "metadata": {},
   "outputs": [
    {
     "data": {
      "image/png": "[encoded data removed]",
      "text/plain": [
       "<Figure size 1080x360 with 2 Axes>"
      ]
     },
     "metadata": {
      "needs_background": "light"
     },
     "output_type": "display_data"
    }
   ],
   "source": [
    "plot_log_show()"
   ]
  },
  {
   "cell_type": "code",
   "execution_count": 65,
   "id": "technological-sodium",
   "metadata": {},
   "outputs": [
    {
     "data": {
      "text/html": [
       "<div>\n",
       "<style scoped>\n",
       "    .dataframe tbody tr th:only-of-type {\n",
       "        vertical-align: middle;\n",
       "    }\n",
       "\n",
       "    .dataframe tbody tr th {\n",
       "        vertical-align: top;\n",
       "    }\n",
       "\n",
       "    .dataframe thead th {\n",
       "        text-align: right;\n",
       "    }\n",
       "</style>\n",
       "<table border=\"1\" class=\"dataframe\">\n",
       "  <thead>\n",
       "    <tr style=\"text-align: right;\">\n",
       "      <th></th>\n",
       "      <th>bedrooms</th>\n",
       "      <th>bathrooms</th>\n",
       "      <th>floors</th>\n",
       "      <th>waterfront</th>\n",
       "      <th>view</th>\n",
       "      <th>cond</th>\n",
       "      <th>grade</th>\n",
       "      <th>percent_basement</th>\n",
       "      <th>yr_since_last_ren</th>\n",
       "      <th>sqft_living_sale</th>\n",
       "      <th>sqft_lot_sale</th>\n",
       "      <th>primary_city</th>\n",
       "      <th>irs_estimated_population_2015</th>\n",
       "    </tr>\n",
       "  </thead>\n",
       "  <tbody>\n",
       "    <tr>\n",
       "      <th>0</th>\n",
       "      <td>3</td>\n",
       "      <td>1.00</td>\n",
       "      <td>1.0</td>\n",
       "      <td>0</td>\n",
       "      <td>0</td>\n",
       "      <td>3</td>\n",
       "      <td>7</td>\n",
       "      <td>0.000000</td>\n",
       "      <td>61</td>\n",
       "      <td>1180</td>\n",
       "      <td>5650</td>\n",
       "      <td>Seattle</td>\n",
       "      <td>23750</td>\n",
       "    </tr>\n",
       "    <tr>\n",
       "      <th>1</th>\n",
       "      <td>3</td>\n",
       "      <td>2.25</td>\n",
       "      <td>2.0</td>\n",
       "      <td>0</td>\n",
       "      <td>0</td>\n",
       "      <td>3</td>\n",
       "      <td>7</td>\n",
       "      <td>0.155642</td>\n",
       "      <td>25</td>\n",
       "      <td>2570</td>\n",
       "      <td>7242</td>\n",
       "      <td>Seattle</td>\n",
       "      <td>35640</td>\n",
       "    </tr>\n",
       "    <tr>\n",
       "      <th>2</th>\n",
       "      <td>2</td>\n",
       "      <td>1.00</td>\n",
       "      <td>1.0</td>\n",
       "      <td>0</td>\n",
       "      <td>0</td>\n",
       "      <td>3</td>\n",
       "      <td>6</td>\n",
       "      <td>0.000000</td>\n",
       "      <td>83</td>\n",
       "      <td>2720</td>\n",
       "      <td>8062</td>\n",
       "      <td>Kenmore</td>\n",
       "      <td>21650</td>\n",
       "    </tr>\n",
       "    <tr>\n",
       "      <th>3</th>\n",
       "      <td>4</td>\n",
       "      <td>3.00</td>\n",
       "      <td>1.0</td>\n",
       "      <td>0</td>\n",
       "      <td>0</td>\n",
       "      <td>5</td>\n",
       "      <td>7</td>\n",
       "      <td>0.464286</td>\n",
       "      <td>51</td>\n",
       "      <td>1960</td>\n",
       "      <td>5000</td>\n",
       "      <td>Seattle</td>\n",
       "      <td>14980</td>\n",
       "    </tr>\n",
       "    <tr>\n",
       "      <th>4</th>\n",
       "      <td>3</td>\n",
       "      <td>2.00</td>\n",
       "      <td>1.0</td>\n",
       "      <td>0</td>\n",
       "      <td>0</td>\n",
       "      <td>3</td>\n",
       "      <td>8</td>\n",
       "      <td>0.000000</td>\n",
       "      <td>29</td>\n",
       "      <td>1800</td>\n",
       "      <td>7503</td>\n",
       "      <td>Sammamish</td>\n",
       "      <td>28270</td>\n",
       "    </tr>\n",
       "    <tr>\n",
       "      <th>...</th>\n",
       "      <td>...</td>\n",
       "      <td>...</td>\n",
       "      <td>...</td>\n",
       "      <td>...</td>\n",
       "      <td>...</td>\n",
       "      <td>...</td>\n",
       "      <td>...</td>\n",
       "      <td>...</td>\n",
       "      <td>...</td>\n",
       "      <td>...</td>\n",
       "      <td>...</td>\n",
       "      <td>...</td>\n",
       "      <td>...</td>\n",
       "    </tr>\n",
       "    <tr>\n",
       "      <th>21592</th>\n",
       "      <td>3</td>\n",
       "      <td>2.50</td>\n",
       "      <td>3.0</td>\n",
       "      <td>0</td>\n",
       "      <td>0</td>\n",
       "      <td>3</td>\n",
       "      <td>8</td>\n",
       "      <td>0.000000</td>\n",
       "      <td>7</td>\n",
       "      <td>1530</td>\n",
       "      <td>1131</td>\n",
       "      <td>Seattle</td>\n",
       "      <td>44790</td>\n",
       "    </tr>\n",
       "    <tr>\n",
       "      <th>21593</th>\n",
       "      <td>4</td>\n",
       "      <td>2.50</td>\n",
       "      <td>2.0</td>\n",
       "      <td>0</td>\n",
       "      <td>0</td>\n",
       "      <td>3</td>\n",
       "      <td>8</td>\n",
       "      <td>0.000000</td>\n",
       "      <td>2</td>\n",
       "      <td>1830</td>\n",
       "      <td>7200</td>\n",
       "      <td>Seattle</td>\n",
       "      <td>26750</td>\n",
       "    </tr>\n",
       "    <tr>\n",
       "      <th>21594</th>\n",
       "      <td>2</td>\n",
       "      <td>0.75</td>\n",
       "      <td>2.0</td>\n",
       "      <td>0</td>\n",
       "      <td>0</td>\n",
       "      <td>3</td>\n",
       "      <td>7</td>\n",
       "      <td>0.000000</td>\n",
       "      <td>7</td>\n",
       "      <td>1020</td>\n",
       "      <td>1350</td>\n",
       "      <td>Seattle</td>\n",
       "      <td>26310</td>\n",
       "    </tr>\n",
       "    <tr>\n",
       "      <th>21595</th>\n",
       "      <td>3</td>\n",
       "      <td>2.50</td>\n",
       "      <td>2.0</td>\n",
       "      <td>0</td>\n",
       "      <td>0</td>\n",
       "      <td>3</td>\n",
       "      <td>8</td>\n",
       "      <td>0.000000</td>\n",
       "      <td>12</td>\n",
       "      <td>1410</td>\n",
       "      <td>1287</td>\n",
       "      <td>Issaquah</td>\n",
       "      <td>26770</td>\n",
       "    </tr>\n",
       "    <tr>\n",
       "      <th>21596</th>\n",
       "      <td>2</td>\n",
       "      <td>0.75</td>\n",
       "      <td>2.0</td>\n",
       "      <td>0</td>\n",
       "      <td>0</td>\n",
       "      <td>3</td>\n",
       "      <td>7</td>\n",
       "      <td>0.000000</td>\n",
       "      <td>8</td>\n",
       "      <td>1020</td>\n",
       "      <td>1076</td>\n",
       "      <td>Seattle</td>\n",
       "      <td>26310</td>\n",
       "    </tr>\n",
       "  </tbody>\n",
       "</table>\n",
       "<p>21597 rows × 13 columns</p>\n",
       "</div>"
      ],
      "text/plain": [
       "       bedrooms  bathrooms  floors  waterfront  view  cond  grade  \\\n",
       "0             3       1.00     1.0           0     0     3      7   \n",
       "1             3       2.25     2.0           0     0     3      7   \n",
       "2             2       1.00     1.0           0     0     3      6   \n",
       "3             4       3.00     1.0           0     0     5      7   \n",
       "4             3       2.00     1.0           0     0     3      8   \n",
       "...         ...        ...     ...         ...   ...   ...    ...   \n",
       "21592         3       2.50     3.0           0     0     3      8   \n",
       "21593         4       2.50     2.0           0     0     3      8   \n",
       "21594         2       0.75     2.0           0     0     3      7   \n",
       "21595         3       2.50     2.0           0     0     3      8   \n",
       "21596         2       0.75     2.0           0     0     3      7   \n",
       "\n",
       "       percent_basement  yr_since_last_ren  sqft_living_sale  sqft_lot_sale  \\\n",
       "0              0.000000                 61              1180           5650   \n",
       "1              0.155642                 25              2570           7242   \n",
       "2              0.000000                 83              2720           8062   \n",
       "3              0.464286                 51              1960           5000   \n",
       "4              0.000000                 29              1800           7503   \n",
       "...                 ...                ...               ...            ...   \n",
       "21592          0.000000                  7              1530           1131   \n",
       "21593          0.000000                  2              1830           7200   \n",
       "21594          0.000000                  7              1020           1350   \n",
       "21595          0.000000                 12              1410           1287   \n",
       "21596          0.000000                  8              1020           1076   \n",
       "\n",
       "      primary_city  irs_estimated_population_2015  \n",
       "0          Seattle                          23750  \n",
       "1          Seattle                          35640  \n",
       "2          Kenmore                          21650  \n",
       "3          Seattle                          14980  \n",
       "4        Sammamish                          28270  \n",
       "...            ...                            ...  \n",
       "21592      Seattle                          44790  \n",
       "21593      Seattle                          26750  \n",
       "21594      Seattle                          26310  \n",
       "21595     Issaquah                          26770  \n",
       "21596      Seattle                          26310  \n",
       "\n",
       "[21597 rows x 13 columns]"
      ]
     },
     "execution_count": 65,
     "metadata": {},
     "output_type": "execute_result"
    }
   ],
   "source": [
    "datawr"
   ]
  },
  {
   "cell_type": "code",
   "execution_count": null,
   "id": "extra-verse",
   "metadata": {},
   "outputs": [],
   "source": []
  },
  {
   "cell_type": "code",
   "execution_count": 66,
   "id": "vocal-croatia",
   "metadata": {},
   "outputs": [
    {
     "data": {
      "text/plain": [
       "array([[<AxesSubplot:title={'center':'8'}>,\n",
       "        <AxesSubplot:title={'center':'8'}>]], dtype=object)"
      ]
     },
     "execution_count": 66,
     "metadata": {},
     "output_type": "execute_result"
    },
    {
     "data": {
      "image/png": "[encoded data removed]",
      "text/plain": [
       "<Figure size 432x288 with 2 Axes>"
      ]
     },
     "metadata": {
      "needs_background": "light"
     },
     "output_type": "display_data"
    }
   ],
   "source": [
    "X[8].hist()"
   ]
  },
  {
   "cell_type": "code",
   "execution_count": null,
   "id": "noble-familiar",
   "metadata": {},
   "outputs": [],
   "source": []
  },
  {
   "cell_type": "code",
   "execution_count": null,
   "id": "touched-collective",
   "metadata": {},
   "outputs": [],
   "source": []
  },
  {
   "cell_type": "code",
   "execution_count": null,
   "id": "adequate-radical",
   "metadata": {},
   "outputs": [],
   "source": []
  },
  {
   "cell_type": "code",
   "execution_count": null,
   "id": "accredited-argument",
   "metadata": {},
   "outputs": [],
   "source": []
  },
  {
   "cell_type": "code",
   "execution_count": null,
   "id": "interior-madagascar",
   "metadata": {},
   "outputs": [],
   "source": []
  },
  {
   "cell_type": "code",
   "execution_count": null,
   "id": "verbal-variety",
   "metadata": {},
   "outputs": [],
   "source": []
  },
  {
   "cell_type": "code",
   "execution_count": null,
   "id": "featured-finnish",
   "metadata": {},
   "outputs": [],
   "source": []
  },
  {
   "cell_type": "code",
   "execution_count": null,
   "id": "metallic-zealand",
   "metadata": {},
   "outputs": [],
   "source": []
  }
 ],
 "metadata": {
  "kernelspec": {
   "display_name": "Python 3",
   "language": "python",
   "name": "python3"
  },
  "language_info": {
   "codemirror_mode": {
    "name": "ipython",
    "version": 3
   },
   "file_extension": ".py",
   "mimetype": "text/x-python",
   "name": "python",
   "nbconvert_exporter": "python",
   "pygments_lexer": "ipython3",
   "version": "3.9.2"
  }
 },
 "nbformat": 4,
 "nbformat_minor": 5
}
